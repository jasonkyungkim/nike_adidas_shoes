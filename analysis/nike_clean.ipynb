{
 "cells": [
  {
   "cell_type": "code",
   "execution_count": 1,
   "id": "9362f0f3-8667-4813-8118-6f6d182667aa",
   "metadata": {},
   "outputs": [],
   "source": [
    "from time import sleep\n",
    "\n",
    "import requests\n",
    "from selenium import webdriver # !pip install selenium\n",
    "from bs4 import BeautifulSoup\n",
    "\n",
    "import numpy as np\n",
    "import pandas as pd"
   ]
  },
  {
   "cell_type": "code",
   "execution_count": 2,
   "id": "301c6876-e63c-497f-bccc-4e30e6a9fa5d",
   "metadata": {},
   "outputs": [
    {
     "data": {
      "text/html": [
       "<div>\n",
       "<style scoped>\n",
       "    .dataframe tbody tr th:only-of-type {\n",
       "        vertical-align: middle;\n",
       "    }\n",
       "\n",
       "    .dataframe tbody tr th {\n",
       "        vertical-align: top;\n",
       "    }\n",
       "\n",
       "    .dataframe thead th {\n",
       "        text-align: right;\n",
       "    }\n",
       "</style>\n",
       "<table border=\"1\" class=\"dataframe\">\n",
       "  <thead>\n",
       "    <tr style=\"text-align: right;\">\n",
       "      <th></th>\n",
       "      <th>label</th>\n",
       "      <th>title</th>\n",
       "      <th>subtitle</th>\n",
       "      <th>num_colors</th>\n",
       "      <th>price</th>\n",
       "      <th>reduced_price</th>\n",
       "      <th>url</th>\n",
       "      <th>description</th>\n",
       "      <th>colors</th>\n",
       "      <th>n_reviews</th>\n",
       "      <th>avg_stars</th>\n",
       "    </tr>\n",
       "  </thead>\n",
       "  <tbody>\n",
       "    <tr>\n",
       "      <th>0</th>\n",
       "      <td>Best Seller</td>\n",
       "      <td>Air Jordan 1 Mid</td>\n",
       "      <td>Shoes</td>\n",
       "      <td>2 Colors</td>\n",
       "      <td>$125</td>\n",
       "      <td>NaN</td>\n",
       "      <td>https://www.nike.com/t/air-jordan-1-mid-shoes-...</td>\n",
       "      <td>Inspired by the original AJ1, the Air Jordan 1...</td>\n",
       "      <td>Black/White/Fire Red; Black/Black/Black</td>\n",
       "      <td>2161.0</td>\n",
       "      <td>4.9</td>\n",
       "    </tr>\n",
       "    <tr>\n",
       "      <th>1</th>\n",
       "      <td>Best Seller</td>\n",
       "      <td>Nike Blazer Mid '77 Vintage</td>\n",
       "      <td>Women's Shoes</td>\n",
       "      <td>3 Colors</td>\n",
       "      <td>$105</td>\n",
       "      <td>NaN</td>\n",
       "      <td>https://www.nike.com/t/blazer-mid-77-vintage-w...</td>\n",
       "      <td>Styled for the ‘70s. Loved in the ‘80s. Classi...</td>\n",
       "      <td>White/White/Peach/White; White/Sail/Peach/Blac...</td>\n",
       "      <td>519.0</td>\n",
       "      <td>4.8</td>\n",
       "    </tr>\n",
       "    <tr>\n",
       "      <th>2</th>\n",
       "      <td>Coming Soon</td>\n",
       "      <td>Nike Dunk Low Retro</td>\n",
       "      <td>Men's Shoes</td>\n",
       "      <td>1 Color</td>\n",
       "      <td>$110</td>\n",
       "      <td>NaN</td>\n",
       "      <td>https://www.nike.com/t/dunk-low-retro-mens-sho...</td>\n",
       "      <td>Created for the hardwood but taken to the stre...</td>\n",
       "      <td>NaN</td>\n",
       "      <td>NaN</td>\n",
       "      <td>NaN</td>\n",
       "    </tr>\n",
       "  </tbody>\n",
       "</table>\n",
       "</div>"
      ],
      "text/plain": [
       "         label                        title       subtitle num_colors price  \\\n",
       "0  Best Seller             Air Jordan 1 Mid          Shoes   2 Colors  $125   \n",
       "1  Best Seller  Nike Blazer Mid '77 Vintage  Women's Shoes   3 Colors  $105   \n",
       "2  Coming Soon          Nike Dunk Low Retro    Men's Shoes    1 Color  $110   \n",
       "\n",
       "  reduced_price                                                url  \\\n",
       "0           NaN  https://www.nike.com/t/air-jordan-1-mid-shoes-...   \n",
       "1           NaN  https://www.nike.com/t/blazer-mid-77-vintage-w...   \n",
       "2           NaN  https://www.nike.com/t/dunk-low-retro-mens-sho...   \n",
       "\n",
       "                                         description  \\\n",
       "0  Inspired by the original AJ1, the Air Jordan 1...   \n",
       "1  Styled for the ‘70s. Loved in the ‘80s. Classi...   \n",
       "2  Created for the hardwood but taken to the stre...   \n",
       "\n",
       "                                              colors  n_reviews  avg_stars  \n",
       "0            Black/White/Fire Red; Black/Black/Black     2161.0        4.9  \n",
       "1  White/White/Peach/White; White/Sail/Peach/Blac...      519.0        4.8  \n",
       "2                                                NaN        NaN        NaN  "
      ]
     },
     "metadata": {},
     "output_type": "display_data"
    },
    {
     "name": "stdout",
     "output_type": "stream",
     "text": [
      "<class 'pandas.core.frame.DataFrame'>\n",
      "Int64Index: 1368 entries, 0 to 1367\n",
      "Data columns (total 11 columns):\n",
      " #   Column         Non-Null Count  Dtype  \n",
      "---  ------         --------------  -----  \n",
      " 0   label          409 non-null    object \n",
      " 1   title          1368 non-null   object \n",
      " 2   subtitle       1367 non-null   object \n",
      " 3   num_colors     1368 non-null   object \n",
      " 4   price          1366 non-null   object \n",
      " 5   reduced_price  579 non-null    object \n",
      " 6   url            1368 non-null   object \n",
      " 7   description    1340 non-null   object \n",
      " 8   colors         840 non-null    object \n",
      " 9   n_reviews      1271 non-null   float64\n",
      " 10  avg_stars      1271 non-null   float64\n",
      "dtypes: float64(2), object(9)\n",
      "memory usage: 128.2+ KB\n"
     ]
    }
   ],
   "source": [
    "nike_df = pd.read_csv(\"data/nike.csv\", index_col = 0)\n",
    "display(nike_df.head(3))\n",
    "nike_df.info()"
   ]
  },
  {
   "cell_type": "code",
   "execution_count": 3,
   "id": "52707b64-e08b-4512-b4a2-f3d80025c663",
   "metadata": {},
   "outputs": [
    {
     "data": {
      "text/html": [
       "<div>\n",
       "<style scoped>\n",
       "    .dataframe tbody tr th:only-of-type {\n",
       "        vertical-align: middle;\n",
       "    }\n",
       "\n",
       "    .dataframe tbody tr th {\n",
       "        vertical-align: top;\n",
       "    }\n",
       "\n",
       "    .dataframe thead th {\n",
       "        text-align: right;\n",
       "    }\n",
       "</style>\n",
       "<table border=\"1\" class=\"dataframe\">\n",
       "  <thead>\n",
       "    <tr style=\"text-align: right;\">\n",
       "      <th></th>\n",
       "      <th>label</th>\n",
       "      <th>title</th>\n",
       "      <th>subtitle</th>\n",
       "      <th>num_colors</th>\n",
       "      <th>price</th>\n",
       "      <th>reduced_price</th>\n",
       "      <th>url</th>\n",
       "      <th>description</th>\n",
       "      <th>colors</th>\n",
       "      <th>n_reviews</th>\n",
       "      <th>avg_stars</th>\n",
       "    </tr>\n",
       "  </thead>\n",
       "  <tbody>\n",
       "    <tr>\n",
       "      <th>248</th>\n",
       "      <td>NaN</td>\n",
       "      <td>Nike Digital Gift Card</td>\n",
       "      <td>Emailed in Approximately 2 Hours or Less</td>\n",
       "      <td>9 Colors</td>\n",
       "      <td>NaN</td>\n",
       "      <td>NaN</td>\n",
       "      <td>https://www.nike.com/t/digital-gift-card-email...</td>\n",
       "      <td>Emailed in approximately 2 hours or less, this...</td>\n",
       "      <td>; ; ; ; ; ; ; ; ; ; ;</td>\n",
       "      <td>NaN</td>\n",
       "      <td>NaN</td>\n",
       "    </tr>\n",
       "    <tr>\n",
       "      <th>978</th>\n",
       "      <td>Just In</td>\n",
       "      <td>Nike Gift Card</td>\n",
       "      <td>NaN</td>\n",
       "      <td>5 Colors</td>\n",
       "      <td>NaN</td>\n",
       "      <td>NaN</td>\n",
       "      <td>https://www.nike.com/t/gift-card-RpyEVO/GIFTCA...</td>\n",
       "      <td>Mailed in a mini Nike shoebox, this gift card ...</td>\n",
       "      <td>; ; ; ; ; ; ; ; ; ; ; ; ; ;</td>\n",
       "      <td>NaN</td>\n",
       "      <td>NaN</td>\n",
       "    </tr>\n",
       "  </tbody>\n",
       "</table>\n",
       "</div>"
      ],
      "text/plain": [
       "       label                   title  \\\n",
       "248      NaN  Nike Digital Gift Card   \n",
       "978  Just In          Nike Gift Card   \n",
       "\n",
       "                                     subtitle num_colors price reduced_price  \\\n",
       "248  Emailed in Approximately 2 Hours or Less   9 Colors   NaN           NaN   \n",
       "978                                       NaN   5 Colors   NaN           NaN   \n",
       "\n",
       "                                                   url  \\\n",
       "248  https://www.nike.com/t/digital-gift-card-email...   \n",
       "978  https://www.nike.com/t/gift-card-RpyEVO/GIFTCA...   \n",
       "\n",
       "                                           description  \\\n",
       "248  Emailed in approximately 2 hours or less, this...   \n",
       "978  Mailed in a mini Nike shoebox, this gift card ...   \n",
       "\n",
       "                           colors  n_reviews  avg_stars  \n",
       "248        ; ; ; ; ; ; ; ; ; ; ;         NaN        NaN  \n",
       "978  ; ; ; ; ; ; ; ; ; ; ; ; ; ;         NaN        NaN  "
      ]
     },
     "metadata": {},
     "output_type": "display_data"
    },
    {
     "name": "stdout",
     "output_type": "stream",
     "text": [
      "Dropping gift card items...\n"
     ]
    }
   ],
   "source": [
    "# There are some gift cards in the data set, which will be dropped\n",
    "# as the project focuses solely on footwear products\n",
    "display(nike_df.loc[nike_df['title'].str.contains(\"Gift Card\")])\n",
    "print(\"Dropping gift card items...\")\n",
    "nike_df.drop(nike_df.loc[nike_df['title'].str.contains(\"Gift Card\")].index,\n",
    "             inplace = True)"
   ]
  },
  {
   "cell_type": "code",
   "execution_count": 4,
   "id": "ccb6f85b-4dea-46c1-92a4-263014fe8acb",
   "metadata": {},
   "outputs": [],
   "source": [
    "def get_page(url):\n",
    "    sleep(0.5)\n",
    "    return BeautifulSoup(requests.get(url, 'html.parser').content)\n",
    "\n",
    "def get_one_color(url):\n",
    "    page = get_page(url)\n",
    "    color = page.select_one('.description-preview__color-description')\n",
    "    if color is None:\n",
    "        return None\n",
    "    return color.text"
   ]
  },
  {
   "cell_type": "code",
   "execution_count": 6,
   "id": "3f071f53-1ffc-4080-b257-6c7d7e2c7e66",
   "metadata": {},
   "outputs": [],
   "source": [
    "nike_df['colors'] = nike_df.apply(lambda row: get_one_color(row['url']) \n",
    "                                  if row['num_colors'] == \"1 Color\" \n",
    "                                  else row['colors'], \n",
    "                                  axis = 1)"
   ]
  },
  {
   "cell_type": "code",
   "execution_count": 7,
   "id": "586e06a1-1ed0-4e55-80fd-f4927696853a",
   "metadata": {},
   "outputs": [
    {
     "name": "stdout",
     "output_type": "stream",
     "text": [
      "<class 'pandas.core.frame.DataFrame'>\n",
      "Int64Index: 1366 entries, 0 to 1367\n",
      "Data columns (total 11 columns):\n",
      " #   Column         Non-Null Count  Dtype  \n",
      "---  ------         --------------  -----  \n",
      " 0   label          408 non-null    object \n",
      " 1   title          1366 non-null   object \n",
      " 2   subtitle       1366 non-null   object \n",
      " 3   num_colors     1366 non-null   object \n",
      " 4   price          1366 non-null   object \n",
      " 5   reduced_price  579 non-null    object \n",
      " 6   url            1366 non-null   object \n",
      " 7   description    1338 non-null   object \n",
      " 8   colors         1231 non-null   object \n",
      " 9   n_reviews      1271 non-null   float64\n",
      " 10  avg_stars      1271 non-null   float64\n",
      "dtypes: float64(2), object(9)\n",
      "memory usage: 128.1+ KB\n"
     ]
    }
   ],
   "source": [
    "nike_df.info()"
   ]
  },
  {
   "cell_type": "code",
   "execution_count": 19,
   "id": "88604971-cc04-4a21-8970-8f6367873cc7",
   "metadata": {},
   "outputs": [
    {
     "name": "stdout",
     "output_type": "stream",
     "text": [
      "There are 86 observations with 1 color but their corresponding webpages/urls are no longer available.\n",
      "There are 49 observations with more than one color available when the data was first scraped from the Nike website. We will drop these rows because some products are no longer available and some now have a different number of colors.\n"
     ]
    }
   ],
   "source": [
    "missing_colors = nike_df.loc[nike_df['colors'].isna()]\n",
    "na_1color = missing_colors.loc[missing_colors['num_colors'] == \"1 Color\"]\n",
    "na_2plus_color = missing_colors.loc[missing_colors['num_colors'] != \"1 Color\"]\n",
    "print(f\"There are {na_1color.shape[0]} observations with 1 color but their corresponding webpages/urls are no longer available.\")\n",
    "print(f\"There are {na_2plus_color.shape[0]} observations with more than one color available when the data was first scraped from the Nike website. We will drop these rows because some products are no longer available and some now have a different number of colors.\")"
   ]
  },
  {
   "cell_type": "code",
   "execution_count": 20,
   "id": "8b912174-eb98-4ec3-b383-49a07a160ea7",
   "metadata": {},
   "outputs": [],
   "source": [
    "nike_df.to_csv(\"data/nike_cleaned.csv\")"
   ]
  },
  {
   "cell_type": "code",
   "execution_count": null,
   "id": "662c1efb-7552-4716-9aa8-c9a370994d48",
   "metadata": {},
   "outputs": [],
   "source": []
  }
 ],
 "metadata": {
  "kernelspec": {
   "display_name": "Python 3 (ipykernel)",
   "language": "python",
   "name": "python3"
  },
  "language_info": {
   "codemirror_mode": {
    "name": "ipython",
    "version": 3
   },
   "file_extension": ".py",
   "mimetype": "text/x-python",
   "name": "python",
   "nbconvert_exporter": "python",
   "pygments_lexer": "ipython3",
   "version": "3.10.6"
  }
 },
 "nbformat": 4,
 "nbformat_minor": 5
}
