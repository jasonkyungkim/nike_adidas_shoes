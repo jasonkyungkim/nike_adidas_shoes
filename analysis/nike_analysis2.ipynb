{
 "cells": [
  {
   "cell_type": "markdown",
   "id": "9ca2c29f",
   "metadata": {},
   "source": [
    "## Imports"
   ]
  },
  {
   "cell_type": "code",
   "execution_count": 1,
   "id": "3d569755",
   "metadata": {},
   "outputs": [
    {
     "name": "stderr",
     "output_type": "stream",
     "text": [
      "2022-12-10 12:27:23.975470: I tensorflow/core/platform/cpu_feature_guard.cc:193] This TensorFlow binary is optimized with oneAPI Deep Neural Network Library (oneDNN) to use the following CPU instructions in performance-critical operations:  AVX2 FMA\n",
      "To enable them in other operations, rebuild TensorFlow with the appropriate compiler flags.\n"
     ]
    }
   ],
   "source": [
    "import itertools\n",
    "import math\n",
    "from collections import Counter\n",
    "\n",
    "from eli5 import show_weights\n",
    "\n",
    "import numpy as np\n",
    "import pandas as pd\n",
    "import seaborn as sns\n",
    "import matplotlib.pyplot as plt\n",
    "from prettytable import PrettyTable\n",
    "from pprint import *\n",
    "\n",
    "from sklearn.linear_model import LinearRegression, LogisticRegression, LogisticRegressionCV\n",
    "from sklearn.naive_bayes import GaussianNB, MultinomialNB\n",
    "from sklearn.ensemble import RandomForestClassifier\n",
    "from sklearn.neighbors import KNeighborsRegressor\n",
    "from sklearn.decomposition import PCA\n",
    "from sklearn.impute import SimpleImputer, KNNImputer\n",
    "from sklearn.model_selection import train_test_split, cross_validate, cross_val_score\n",
    "from sklearn.metrics import mean_squared_error, r2_score, classification_report, confusion_matrix\n",
    "from sklearn.metrics import accuracy_score, roc_auc_score, roc_curve\n",
    "from sklearn.preprocessing import PolynomialFeatures, StandardScaler\n",
    "from sklearn.compose import ColumnTransformer\n",
    "from sklearn.feature_extraction import DictVectorizer\n",
    "from sklearn.feature_extraction.text import TfidfVectorizer\n",
    "from sklearn.pipeline import make_pipeline\n",
    "from sklearn.inspection import permutation_importance\n",
    "\n",
    "from xgboost import XGBClassifier\n",
    "import lightgbm as lgb"
   ]
  },
  {
   "cell_type": "markdown",
   "id": "f8482917",
   "metadata": {},
   "source": [
    "# Import Nike Data"
   ]
  },
  {
   "cell_type": "code",
   "execution_count": 2,
   "id": "04d8b8be",
   "metadata": {},
   "outputs": [
    {
     "name": "stdout",
     "output_type": "stream",
     "text": [
      "Basic information about our Nike.com dataset:\n",
      "\n",
      "<class 'pandas.core.frame.DataFrame'>\n",
      "Int64Index: 1368 entries, 0 to 1367\n",
      "Data columns (total 11 columns):\n",
      " #   Column         Non-Null Count  Dtype  \n",
      "---  ------         --------------  -----  \n",
      " 0   label          409 non-null    object \n",
      " 1   title          1368 non-null   object \n",
      " 2   subtitle       1367 non-null   object \n",
      " 3   num_colors     1368 non-null   object \n",
      " 4   price          1366 non-null   object \n",
      " 5   reduced_price  579 non-null    object \n",
      " 6   url            1368 non-null   object \n",
      " 7   description    1340 non-null   object \n",
      " 8   colors         840 non-null    object \n",
      " 9   n_reviews      1271 non-null   float64\n",
      " 10  avg_stars      1271 non-null   float64\n",
      "dtypes: float64(2), object(9)\n",
      "memory usage: 128.2+ KB\n",
      "None\n",
      "\n",
      "\n",
      "A little more summary info about our data (there\n",
      "are only a few columns in our data, making this\n",
      "easy to inspect):\n",
      "\n",
      "          n_reviews    avg_stars\n",
      "count  1271.000000  1271.000000\n",
      "mean     73.042486     3.432966\n",
      "std     279.601964     2.029485\n",
      "min       0.000000     0.000000\n",
      "25%       1.000000     1.000000\n",
      "50%       7.000000     4.600000\n",
      "75%      46.000000     4.800000\n",
      "max    4811.000000     5.000000\n",
      "\n",
      "\n",
      "And, the first few rows of our data:\n"
     ]
    },
    {
     "data": {
      "text/html": [
       "<div>\n",
       "<style scoped>\n",
       "    .dataframe tbody tr th:only-of-type {\n",
       "        vertical-align: middle;\n",
       "    }\n",
       "\n",
       "    .dataframe tbody tr th {\n",
       "        vertical-align: top;\n",
       "    }\n",
       "\n",
       "    .dataframe thead th {\n",
       "        text-align: right;\n",
       "    }\n",
       "</style>\n",
       "<table border=\"1\" class=\"dataframe\">\n",
       "  <thead>\n",
       "    <tr style=\"text-align: right;\">\n",
       "      <th></th>\n",
       "      <th>label</th>\n",
       "      <th>title</th>\n",
       "      <th>subtitle</th>\n",
       "      <th>num_colors</th>\n",
       "      <th>price</th>\n",
       "      <th>reduced_price</th>\n",
       "      <th>url</th>\n",
       "      <th>description</th>\n",
       "      <th>colors</th>\n",
       "      <th>n_reviews</th>\n",
       "      <th>avg_stars</th>\n",
       "    </tr>\n",
       "  </thead>\n",
       "  <tbody>\n",
       "    <tr>\n",
       "      <th>0</th>\n",
       "      <td>Best Seller</td>\n",
       "      <td>Air Jordan 1 Mid</td>\n",
       "      <td>Shoes</td>\n",
       "      <td>2 Colors</td>\n",
       "      <td>$125</td>\n",
       "      <td>NaN</td>\n",
       "      <td>https://www.nike.com/t/air-jordan-1-mid-shoes-...</td>\n",
       "      <td>Inspired by the original AJ1, the Air Jordan 1...</td>\n",
       "      <td>Black/White/Fire Red; Black/Black/Black</td>\n",
       "      <td>2161.0</td>\n",
       "      <td>4.9</td>\n",
       "    </tr>\n",
       "    <tr>\n",
       "      <th>1</th>\n",
       "      <td>Best Seller</td>\n",
       "      <td>Nike Blazer Mid '77 Vintage</td>\n",
       "      <td>Women's Shoes</td>\n",
       "      <td>3 Colors</td>\n",
       "      <td>$105</td>\n",
       "      <td>NaN</td>\n",
       "      <td>https://www.nike.com/t/blazer-mid-77-vintage-w...</td>\n",
       "      <td>Styled for the ‘70s. Loved in the ‘80s. Classi...</td>\n",
       "      <td>White/White/Peach/White; White/Sail/Peach/Blac...</td>\n",
       "      <td>519.0</td>\n",
       "      <td>4.8</td>\n",
       "    </tr>\n",
       "    <tr>\n",
       "      <th>2</th>\n",
       "      <td>Coming Soon</td>\n",
       "      <td>Nike Dunk Low Retro</td>\n",
       "      <td>Men's Shoes</td>\n",
       "      <td>1 Color</td>\n",
       "      <td>$110</td>\n",
       "      <td>NaN</td>\n",
       "      <td>https://www.nike.com/t/dunk-low-retro-mens-sho...</td>\n",
       "      <td>Created for the hardwood but taken to the stre...</td>\n",
       "      <td>NaN</td>\n",
       "      <td>NaN</td>\n",
       "      <td>NaN</td>\n",
       "    </tr>\n",
       "  </tbody>\n",
       "</table>\n",
       "</div>"
      ],
      "text/plain": [
       "         label                        title       subtitle num_colors price  \\\n",
       "0  Best Seller             Air Jordan 1 Mid          Shoes   2 Colors  $125   \n",
       "1  Best Seller  Nike Blazer Mid '77 Vintage  Women's Shoes   3 Colors  $105   \n",
       "2  Coming Soon          Nike Dunk Low Retro    Men's Shoes    1 Color  $110   \n",
       "\n",
       "  reduced_price                                                url  \\\n",
       "0           NaN  https://www.nike.com/t/air-jordan-1-mid-shoes-...   \n",
       "1           NaN  https://www.nike.com/t/blazer-mid-77-vintage-w...   \n",
       "2           NaN  https://www.nike.com/t/dunk-low-retro-mens-sho...   \n",
       "\n",
       "                                         description  \\\n",
       "0  Inspired by the original AJ1, the Air Jordan 1...   \n",
       "1  Styled for the ‘70s. Loved in the ‘80s. Classi...   \n",
       "2  Created for the hardwood but taken to the stre...   \n",
       "\n",
       "                                              colors  n_reviews  avg_stars  \n",
       "0            Black/White/Fire Red; Black/Black/Black     2161.0        4.9  \n",
       "1  White/White/Peach/White; White/Sail/Peach/Blac...      519.0        4.8  \n",
       "2                                                NaN        NaN        NaN  "
      ]
     },
     "metadata": {},
     "output_type": "display_data"
    }
   ],
   "source": [
    "nike = pd.read_csv(\"data/nike.csv\", index_col = 0)\n",
    "\n",
    "print(\"Basic information about our Nike.com dataset:\\n\")\n",
    "print(nike.info())\n",
    "print(\n",
    "    \"\\n\\nA little more summary info about our data \"\n",
    "    \"(there\\nare only a few columns in our data, making \"\n",
    "    \"this\\neasy to inspect):\\n\\n\",\n",
    "    nike.describe(),\n",
    ")\n",
    "print(\"\\n\\nAnd, the first few rows of our data:\")\n",
    "display(nike.head(3))"
   ]
  },
  {
   "cell_type": "markdown",
   "id": "b70fea50-0914-4594-b58a-11b01006176f",
   "metadata": {},
   "source": [
    "**Change `price` and `num_colors` to numeric**"
   ]
  },
  {
   "cell_type": "code",
   "execution_count": 3,
   "id": "74a5dd43-3b7f-41ef-9cdb-dc3f42c073ac",
   "metadata": {},
   "outputs": [
    {
     "name": "stderr",
     "output_type": "stream",
     "text": [
      "/var/folders/kl/zzq83xsx65s2p501hz1mwvlw0000gn/T/ipykernel_35765/405425822.py:1: FutureWarning: The default value of regex will change from True to False in a future version. In addition, single character regular expressions will *not* be treated as literal strings when regex=True.\n",
      "  nike['price'] = nike['price'].str.replace('$','').astype(np.float64)\n"
     ]
    }
   ],
   "source": [
    "nike['price'] = nike['price'].str.replace('$','').astype(np.float64)\n",
    "nike['num_colors'] = nike['num_colors'].str.replace(' Colors','').str.replace(' Color','').astype(np.float64)"
   ]
  },
  {
   "cell_type": "markdown",
   "id": "42d3ba61-4a4c-40fd-95d6-79003dcde4e1",
   "metadata": {},
   "source": [
    "**Filling missing entries for `n_reviews` and `avg_stars` with zeros**"
   ]
  },
  {
   "cell_type": "code",
   "execution_count": 4,
   "id": "78316906-3f1f-47c7-86f6-ae49a32bbdf7",
   "metadata": {},
   "outputs": [],
   "source": [
    "nike['n_reviews'].fillna(0, inplace = True)\n",
    "nike['avg_stars'].fillna(0, inplace = True)"
   ]
  },
  {
   "cell_type": "markdown",
   "id": "f11845b7-675d-497e-8f9e-ab05c4161546",
   "metadata": {},
   "source": [
    "**Drop gift card items**"
   ]
  },
  {
   "cell_type": "code",
   "execution_count": 5,
   "id": "da077f80-dad2-4957-9bb8-19289684b360",
   "metadata": {},
   "outputs": [],
   "source": [
    "nike = nike[~nike['title'].str.contains(\"gift card\", na = False, case = False)]"
   ]
  },
  {
   "cell_type": "markdown",
   "id": "aa5e3755-fe3d-4104-8604-40703b2156e3",
   "metadata": {},
   "source": [
    "**Count missing entries for each feature**"
   ]
  },
  {
   "cell_type": "code",
   "execution_count": 6,
   "id": "3a015cdd-759d-4ef2-94d9-b914cbb19cef",
   "metadata": {},
   "outputs": [
    {
     "data": {
      "text/plain": [
       "label            958\n",
       "title              0\n",
       "subtitle           0\n",
       "num_colors         0\n",
       "price              0\n",
       "reduced_price    787\n",
       "url                0\n",
       "description       28\n",
       "colors           528\n",
       "n_reviews          0\n",
       "avg_stars          0\n",
       "dtype: int64"
      ]
     },
     "execution_count": 6,
     "metadata": {},
     "output_type": "execute_result"
    }
   ],
   "source": [
    "nike.isna().sum()"
   ]
  },
  {
   "cell_type": "markdown",
   "id": "7a71cb1f-7362-41be-983b-6c62cb9ff8c6",
   "metadata": {},
   "source": [
    "## Preprocess `subtitle` feature"
   ]
  },
  {
   "cell_type": "code",
   "execution_count": 7,
   "id": "43a24c91-4f83-4a68-855a-f14e13403bf2",
   "metadata": {},
   "outputs": [
    {
     "name": "stdout",
     "output_type": "stream",
     "text": [
      "[\"Little Kids' Easy On/Off Shoes\",\n",
      " 'Artificial-Turf Soccer Shoes',\n",
      " 'Basketball Shoe',\n",
      " \"Men's Trail Running Shoes\",\n",
      " 'Baby/Toddler Shoe',\n",
      " \"Little/Big Kids' Road Running Shoes\",\n",
      " \"Women's Easy On/Off Road Running Shoes\",\n",
      " 'Custom Firm Ground Soccer Cleat',\n",
      " \"Big Kids' Boots\",\n",
      " \"Little/Big Kids' Turf Soccer Shoes\",\n",
      " \"Men's Duckboot\",\n",
      " 'Men’s Training Shoes',\n",
      " 'Custom Shoes',\n",
      " \"Little Kids' Shoe \",\n",
      " \"Women's Road Racing Shoes\",\n",
      " 'Indoor/Court Soccer Shoes',\n",
      " 'Baseball Cleat',\n",
      " \"Little/Big Kids' Cleats\",\n",
      " \"Women's Custom Shoes\",\n",
      " \"Women's HIIT Class Shoes\"]\n"
     ]
    }
   ],
   "source": [
    "pprint(list(nike.subtitle.unique())[100: 120])"
   ]
  },
  {
   "cell_type": "code",
   "execution_count": 8,
   "id": "a3ecf71d-8461-45c8-af62-0d4446461b2e",
   "metadata": {},
   "outputs": [
    {
     "data": {
      "text/plain": [
       "Men's       0.475842\n",
       "Kids        0.247438\n",
       "Women's     0.193997\n",
       "Infant's    0.082723\n",
       "Name: category, dtype: float64"
      ]
     },
     "execution_count": 8,
     "metadata": {},
     "output_type": "execute_result"
    }
   ],
   "source": [
    "nike.loc[nike['subtitle'].str.contains(\"Men's\", na = False, case = True), 'category'] = \"Men's\"\n",
    "nike.loc[nike['subtitle'].str.contains(\"Women's\", na = False, case = True), 'category'] = \"Women's\"\n",
    "nike.loc[nike['subtitle'].str.contains(\"Kids\", na = False, regex = True), 'category'] = \"Kids\"\n",
    "nike.loc[nike['subtitle'].str.contains(\"toddler\", na = False, case = False), 'category'] = \"Infant's\"\n",
    "nike['category'].fillna(\"Men's\", inplace = True) \n",
    "\n",
    "categories = nike['category'].value_counts(normalize = True)\n",
    "categories"
   ]
  },
  {
   "cell_type": "code",
   "execution_count": 9,
   "id": "2d24341d-c5cf-4f4c-80b3-c6878528e149",
   "metadata": {},
   "outputs": [],
   "source": [
    "nike['purpose'] = nike['subtitle']\n",
    "nike = nike.replace({'purpose' : {\".*Easy On/Off.*\": \"Lifestyle\",\n",
    "                                   \".*Custom.*\" : \"Custom\",\n",
    "                                   \".*Cleats.*\": \"Soccer\",\n",
    "                                   \".*style.*\" : \"Lifestyle\",\n",
    "                                   \".*Running.*\" : \"Running\",\n",
    "                                   \".*Basketball.*\" : \"Basketball\",\n",
    "                                   \".*Baseball.*\" : \"Baseball\",\n",
    "                                   \".*Indoor Court.*\": \"Training\",\n",
    "                                   \".*Endurance Class.*\": \"Training\",\n",
    "                                   \".*Volleyball.*\" : \"Volleyball\",\n",
    "                                   \".*HIIT.*\" : \"Training\",\n",
    "                                   \".*Skate.*\" : \"Skate\",\n",
    "                                   \".*Football.*\" : \"Football\",\n",
    "                                   \".*Boot.*\" : \"Boot\",\n",
    "                                   \".*Duckboot.*\": \"Boot\",\n",
    "                                   \".*Cycling.*\" : \"Cycling\",\n",
    "                                   \".*Sandal.*\" : \"Sandal\",\n",
    "                                   \".*Slide.*\" : \"Sandal\",\n",
    "                                   \".*Slip$\" : \"Sandal\",\n",
    "                                   \".*Slipper.*\": \"Sandal\",\n",
    "                                   \".*Mule.*\": \"Sandal\",\n",
    "                                   \".*Softball.*\" : \"Softball\",\n",
    "                                   \".*Golf.*\" : \"Golf\",\n",
    "                                   \".*Soccer.*\" : \"Soccer\",\n",
    "                                   \".*Tennis.*\" : \"Tennis\",\n",
    "                                   \".*Training.*\" : \"Training\",\n",
    "                                   \".*Weightlifting.*\": \"Weightlifting\",\n",
    "                                   \".*Racing.*\" : \"Racing\",\n",
    "                                   \".*Track.*\" : \"Track\",\n",
    "                                   \".*One Star.*\": \"Lifestyle\"   \n",
    "                                  }}, regex = True)\n",
    "nike = nike.replace({'purpose' : {\"Shoe[s]{0,1}\": \"Lifestyle\",\n",
    "                                  \"Women's Shoe[s]{0,1}\": \"Lifestyle\",\n",
    "                                  \"Men's Shoe[s]{0,1}\": \"Lifestyle\",\n",
    "                                  \".*Kids' Shoe[s]{0,1}\": \"Lifestyle\"\n",
    "                                  }}, regex = True)\n",
    "nike.loc[nike['purpose'].str.contains(\"Lifestyle\", na = False, case = True), 'purpose'] = \"Lifestyle\""
   ]
  },
  {
   "cell_type": "code",
   "execution_count": 10,
   "id": "48458065-26da-4c2c-b1d8-898d1b6f96da",
   "metadata": {},
   "outputs": [
    {
     "name": "stdout",
     "output_type": "stream",
     "text": [
      "There are 4 unique categories and 19 unique purposes\n",
      "[\"Men's\", \"Women's\", 'Kids', \"Infant's\"]\n",
      "Lifestyle        782\n",
      "Running          116\n",
      "Soccer           106\n",
      "Basketball        62\n",
      "Sandal            61\n",
      "Custom            50\n",
      "Training          43\n",
      "Boot              38\n",
      "Golf              25\n",
      "Skate             24\n",
      "Track             19\n",
      "Tennis            14\n",
      "Baseball           9\n",
      "Racing             7\n",
      "Cycling            4\n",
      "Football           2\n",
      "Softball           2\n",
      "Weightlifting      1\n",
      "Volleyball         1\n",
      "Name: purpose, dtype: int64\n"
     ]
    }
   ],
   "source": [
    "unique_cat = list(nike['category'].unique())\n",
    "unique_purpose = list(nike['purpose'].unique())\n",
    "\n",
    "print(f\"There are {len(unique_cat)} unique categories and {len(unique_purpose)} unique purposes\")\n",
    "print(unique_cat)\n",
    "pprint(nike['purpose'].value_counts())"
   ]
  },
  {
   "cell_type": "markdown",
   "id": "d621fd9d-be6e-437a-8163-6a3681442b5c",
   "metadata": {},
   "source": [
    "# EDA"
   ]
  },
  {
   "cell_type": "markdown",
   "id": "1caed155",
   "metadata": {},
   "source": [
    "## Plot Numeric Variables"
   ]
  },
  {
   "cell_type": "code",
   "execution_count": 11,
   "id": "9bfa5d31",
   "metadata": {},
   "outputs": [
    {
     "data": {
      "image/png": "[encoded data removed]",
      "text/plain": [
       "<Figure size 1200x500 with 3 Axes>"
      ]
     },
     "metadata": {},
     "output_type": "display_data"
    }
   ],
   "source": [
    "fig, axes = plt.subplots(1, 3, sharey = True, figsize = (12, 5))\n",
    "\n",
    "fontsize = 14\n",
    "\n",
    "cols = [\"num_colors\", \"n_reviews\", \"avg_stars\"] \n",
    "title_vs_text = [\"num_colors\", \"n_reviews\", \"avg_stars\"]\n",
    "xlabels = [\"Number of Colors\", \"Number of Reviews\", \"Average Stars\"]\n",
    "\n",
    "for i, (ax, col, title_vs, xlabel) in enumerate(\n",
    "    zip(axes, cols, title_vs_text, xlabels)):\n",
    "\n",
    "    ax.scatter(nike[col], nike[\"price\"], alpha = 0.35, s = 20)\n",
    "    ax.set_title(f\"Price vs. {xlabel}\", fontsize = fontsize)\n",
    "    ax.set_xlabel(xlabel, fontsize=fontsize-2)\n",
    "    ax.set_ylabel(\"Price\" if i==0 else None, fontsize = fontsize - 2)\n",
    "    ax.grid(\":\", alpha = 0.4)\n",
    "\n",
    "plt.suptitle(\"Relationships between Nike prices and other numerical features\", \n",
    "             fontsize = fontsize)\n",
    "plt.tight_layout()"
   ]
  },
  {
   "cell_type": "code",
   "execution_count": 12,
   "id": "6b5bf377",
   "metadata": {},
   "outputs": [
    {
     "data": {
      "image/png": "[encoded data removed]",
      "text/plain": [
       "<Figure size 640x480 with 2 Axes>"
      ]
     },
     "metadata": {},
     "output_type": "display_data"
    }
   ],
   "source": [
    "cor = nike.corr()\n",
    "\n",
    "sns.heatmap(cor, cmap = 'Blues')\n",
    "plt.title(\"Nike Feature Correlation Map\")\n",
    "plt.show()"
   ]
  },
  {
   "cell_type": "markdown",
   "id": "a9b35d81",
   "metadata": {},
   "source": [
    "## Plot Categorical Variables"
   ]
  },
  {
   "cell_type": "code",
   "execution_count": 13,
   "id": "3ccbe637",
   "metadata": {},
   "outputs": [
    {
     "name": "stdout",
     "output_type": "stream",
     "text": [
      "There are 10 unique labels which are ['Best Seller', 'Coming Soon', nan, 'Sustainable Materials', 'Member Access', 'Customize', 'Just In', 'Launching in SNKRS', 'Available in SNKRS', 'Sold Out']\n"
     ]
    }
   ],
   "source": [
    "list_label = nike['label'].unique().tolist()\n",
    "len_label = len(list_label)\n",
    "print(f'There are {len_label} unique labels which are {list_label}')"
   ]
  },
  {
   "cell_type": "code",
   "execution_count": 14,
   "id": "2f14bafa",
   "metadata": {
    "tags": []
   },
   "outputs": [
    {
     "data": {
      "image/png": "[encoded data removed]",
      "text/plain": [
       "<Figure size 640x480 with 1 Axes>"
      ]
     },
     "metadata": {},
     "output_type": "display_data"
    }
   ],
   "source": [
    "labels_sorted = nike.groupby('label').price.median().sort_values(ascending=False)\n",
    "\n",
    "# order box plot by median\n",
    "sns.boxplot(data = nike, y = 'label', x = 'price', \n",
    "            color = 'lightseagreen', order = labels_sorted.index)\n",
    "plt.xlabel('Price')\n",
    "plt.ylabel('Label')\n",
    "plt.title('Nike Price Distributions by Label (sorted by median prices)')\n",
    "plt.show()"
   ]
  },
  {
   "cell_type": "code",
   "execution_count": 15,
   "id": "77165828",
   "metadata": {
    "tags": []
   },
   "outputs": [
    {
     "data": {
      "image/png": "[encoded data removed]",
      "text/plain": [
       "<Figure size 640x480 with 1 Axes>"
      ]
     },
     "metadata": {},
     "output_type": "display_data"
    }
   ],
   "source": [
    "median_price_cat_sorted = nike.groupby('category').price.median().sort_values(ascending=False)\n",
    "\n",
    "# order box plot by median\n",
    "sns.boxplot(data = nike, y = 'category', x = 'price', \n",
    "            color = 'lightseagreen', order = median_price_cat_sorted.index)\n",
    "plt.xlabel('Price')\n",
    "plt.ylabel('Category')\n",
    "plt.title('Nike Price Distributions by Category')\n",
    "plt.show()"
   ]
  },
  {
   "cell_type": "code",
   "execution_count": 16,
   "id": "5075bf56-85b4-4ac2-bd03-09400ce0a8b3",
   "metadata": {},
   "outputs": [
    {
     "data": {
      "image/png": "[encoded data removed]",
      "text/plain": [
       "<Figure size 640x480 with 1 Axes>"
      ]
     },
     "metadata": {},
     "output_type": "display_data"
    }
   ],
   "source": [
    "median_price_purpose_sorted = nike.groupby('purpose')['price'].median().sort_values(ascending = False)\n",
    "\n",
    "# order box plot by median\n",
    "sns.boxplot(data = nike, y = 'purpose', x = 'price', \n",
    "            order = median_price_purpose_sorted.index)\n",
    "plt.xlabel('Price')\n",
    "plt.ylabel('Purpose')\n",
    "plt.title('Nike Price Distributions by Purpose (sorted by median price)')\n",
    "plt.show()"
   ]
  },
  {
   "cell_type": "markdown",
   "id": "898cb676",
   "metadata": {},
   "source": [
    "## Numeric Stats"
   ]
  },
  {
   "cell_type": "code",
   "execution_count": 17,
   "id": "c5933158",
   "metadata": {},
   "outputs": [
    {
     "name": "stdout",
     "output_type": "stream",
     "text": [
      "\n",
      "The mean price is 108.3433 \n",
      "The mean number of colors is 3.5271 \n",
      "The Standard Deviation of price is 47.8272\n",
      "The Standard Deviation of number of colors is 3.3761\n"
     ]
    }
   ],
   "source": [
    "mean_price = nike[\"price\"].mean() \n",
    "mean_noc = nike[\"num_colors\"].mean()\n",
    "std_price = nike[\"price\"].std() \n",
    "std_noc = nike[\"num_colors\"].std()\n",
    "print(\n",
    "    \"\\n\"\n",
    "    f\"The mean price is {mean_price:.4f} \\n\"\n",
    "    f\"The mean number of colors is {mean_noc:.4f} \\n\"\n",
    "    f\"The Standard Deviation of price is {std_price:.4f}\\n\"\n",
    "    f\"The Standard Deviation of number of colors is {std_noc:.4f}\"\n",
    ")"
   ]
  },
  {
   "cell_type": "code",
   "execution_count": 18,
   "id": "2db2a4ec",
   "metadata": {},
   "outputs": [
    {
     "name": "stdout",
     "output_type": "stream",
     "text": [
      "The range of price for which shoes in our dataset is 325.00 dolloars. \n",
      "\n",
      "The maximum number of price is 350.00, and the minimum is 25.00.\n"
     ]
    }
   ],
   "source": [
    "price_min = nike[\"price\"].min()\n",
    "price_max = nike[\"price\"].max() \n",
    "price_range = price_max - price_min \n",
    "\n",
    "print(\n",
    "    f\"The range of price for which shoes in our dataset \"\n",
    "    f\"is {price_range:,.2f} dolloars. \\n\\n\"\n",
    "    f\"The maximum number of price is {price_max:,.2f}, \"\n",
    "    f\"and the minimum is {price_min:,.2f}.\"\n",
    ")"
   ]
  },
  {
   "cell_type": "code",
   "execution_count": 19,
   "id": "330cbcf9",
   "metadata": {},
   "outputs": [
    {
     "name": "stderr",
     "output_type": "stream",
     "text": [
      "/Users/runlanlana/micromamba/envs/cs109a/lib/python3.10/site-packages/seaborn/distributions.py:2619: FutureWarning: `distplot` is a deprecated function and will be removed in a future version. Please adapt your code to use either `displot` (a figure-level function with similar flexibility) or `histplot` (an axes-level function for histograms).\n",
      "  warnings.warn(msg, FutureWarning)\n"
     ]
    },
    {
     "data": {
      "image/png": "[encoded data removed]",
      "text/plain": [
       "<Figure size 1200x800 with 1 Axes>"
      ]
     },
     "metadata": {},
     "output_type": "display_data"
    }
   ],
   "source": [
    "plt.figure(figsize=(12,8))\n",
    "#ploting the mean\n",
    "plt.axvline(mean_price, 0, 1, color = 'red', label='Mean of Shoes Price')\n",
    "sns.distplot(nike['price'], color='orange')\n",
    "plt.title(\"Distirbution of price range of Nike Shoes\")\n",
    "plt.legend()\n",
    "plt.show()"
   ]
  },
  {
   "cell_type": "code",
   "execution_count": 20,
   "id": "ff626109-580c-49a5-a8a9-62abf57e7420",
   "metadata": {},
   "outputs": [
    {
     "data": {
      "text/plain": [
       "<Figure size 500x300 with 0 Axes>"
      ]
     },
     "metadata": {},
     "output_type": "display_data"
    },
    {
     "data": {
      "image/png": "[encoded data removed]",
      "text/plain": [
       "<Figure size 613.125x500 with 1 Axes>"
      ]
     },
     "metadata": {},
     "output_type": "display_data"
    }
   ],
   "source": [
    "plt.figure(figsize=(5,3))\n",
    "sns.displot(data = nike, x = \"price\", hue = \"category\", kind = \"kde\")\n",
    "plt.title(\"Price Distirbutions of Adidas Shoes by Category\")\n",
    "plt.show()"
   ]
  },
  {
   "cell_type": "markdown",
   "id": "834dda17",
   "metadata": {},
   "source": [
    "# NLP Analysis and Preprocessing"
   ]
  },
  {
   "cell_type": "markdown",
   "id": "22dcf64c",
   "metadata": {},
   "source": [
    "## Process Column `description` from Raw Text to Bag-of-Words"
   ]
  },
  {
   "cell_type": "code",
   "execution_count": 21,
   "id": "186fdd9f-b452-495a-9ec1-720dbf795dc7",
   "metadata": {},
   "outputs": [
    {
     "data": {
      "text/html": [
       "<div>\n",
       "<style scoped>\n",
       "    .dataframe tbody tr th:only-of-type {\n",
       "        vertical-align: middle;\n",
       "    }\n",
       "\n",
       "    .dataframe tbody tr th {\n",
       "        vertical-align: top;\n",
       "    }\n",
       "\n",
       "    .dataframe thead th {\n",
       "        text-align: right;\n",
       "    }\n",
       "</style>\n",
       "<table border=\"1\" class=\"dataframe\">\n",
       "  <thead>\n",
       "    <tr style=\"text-align: right;\">\n",
       "      <th></th>\n",
       "      <th>text</th>\n",
       "      <th>price</th>\n",
       "    </tr>\n",
       "  </thead>\n",
       "  <tbody>\n",
       "    <tr>\n",
       "      <th>0</th>\n",
       "      <td>Air Jordan 1 Mid; Men's; Lifestyle; Inspired b...</td>\n",
       "      <td>125.0</td>\n",
       "    </tr>\n",
       "    <tr>\n",
       "      <th>1</th>\n",
       "      <td>Nike Blazer Mid '77 Vintage; Women's; Lifestyl...</td>\n",
       "      <td>105.0</td>\n",
       "    </tr>\n",
       "    <tr>\n",
       "      <th>2</th>\n",
       "      <td>Nike Dunk Low Retro; Men's; Lifestyle; Created...</td>\n",
       "      <td>110.0</td>\n",
       "    </tr>\n",
       "    <tr>\n",
       "      <th>3</th>\n",
       "      <td>Nike Air Force 1 '07; Men's; Lifestyle; The ra...</td>\n",
       "      <td>110.0</td>\n",
       "    </tr>\n",
       "    <tr>\n",
       "      <th>4</th>\n",
       "      <td>Air Jordan 12 Retro; Men's; Lifestyle; No need...</td>\n",
       "      <td>200.0</td>\n",
       "    </tr>\n",
       "  </tbody>\n",
       "</table>\n",
       "</div>"
      ],
      "text/plain": [
       "                                                text  price\n",
       "0  Air Jordan 1 Mid; Men's; Lifestyle; Inspired b...  125.0\n",
       "1  Nike Blazer Mid '77 Vintage; Women's; Lifestyl...  105.0\n",
       "2  Nike Dunk Low Retro; Men's; Lifestyle; Created...  110.0\n",
       "3  Nike Air Force 1 '07; Men's; Lifestyle; The ra...  110.0\n",
       "4  Air Jordan 12 Retro; Men's; Lifestyle; No need...  200.0"
      ]
     },
     "execution_count": 21,
     "metadata": {},
     "output_type": "execute_result"
    }
   ],
   "source": [
    "df = nike.loc[:, ['title', 'category', 'purpose', 'description', 'price']].copy()  # subset\n",
    "df['text'] = df['title'].str.cat(df['category'], sep = '; ', na_rep = '')\n",
    "df['text'] = df['text'].str.cat(df['purpose'], sep = '; ', na_rep = '')\n",
    "df['text'] = df['text'].str.cat(df['description'], sep = '; ', na_rep = '')\n",
    "\n",
    "df = df[['text', 'price']]\n",
    "df.head()"
   ]
  },
  {
   "cell_type": "code",
   "execution_count": 22,
   "id": "5ed293ca",
   "metadata": {},
   "outputs": [],
   "source": [
    "# to lower\n",
    "df['text'] = df['text'].str.lower()\n",
    "# remove punctuation\n",
    "df['text'] = df['text'].str.replace(r'([^\\w\\s]|_)+', '', regex=True)\n",
    "# tokenization\n",
    "df['text'] = df['text'].str.split()\n",
    "# load list of stop words\n",
    "stopwords = pd.read_csv('data/stopwords_nopunc.csv').stopwords.values\n",
    "# remove stop words from data\n",
    "df['text'] = df['text'].apply(lambda x: [str(w) for w in x if w not in stopwords])\n",
    "# create a dictionary (or Series) with the counts of each unique vocab word\n",
    "vocab_counts = df['text'].explode().value_counts()"
   ]
  },
  {
   "cell_type": "code",
   "execution_count": 23,
   "id": "96fad0a1",
   "metadata": {},
   "outputs": [],
   "source": [
    "# define vocabulary\n",
    "# list of unique words occuring at least 5 times in the dataset\n",
    "min_count = 5\n",
    "vocab = [k for k,v in vocab_counts.items() if v >= 5]"
   ]
  },
  {
   "cell_type": "code",
   "execution_count": 24,
   "id": "7dfda572",
   "metadata": {},
   "outputs": [
    {
     "name": "stdout",
     "output_type": "stream",
     "text": [
      "We have 1,514 unique words in our reduced, corpus vocabulary.\n"
     ]
    }
   ],
   "source": [
    "print(f\"We have {len(vocab):,} unique words in our reduced, corpus vocabulary.\")"
   ]
  },
  {
   "cell_type": "code",
   "execution_count": 25,
   "id": "08658093",
   "metadata": {},
   "outputs": [
    {
     "data": {
      "text/html": [
       "<div>\n",
       "<style scoped>\n",
       "    .dataframe tbody tr th:only-of-type {\n",
       "        vertical-align: middle;\n",
       "    }\n",
       "\n",
       "    .dataframe tbody tr th {\n",
       "        vertical-align: top;\n",
       "    }\n",
       "\n",
       "    .dataframe thead th {\n",
       "        text-align: right;\n",
       "    }\n",
       "</style>\n",
       "<table border=\"1\" class=\"dataframe\">\n",
       "  <thead>\n",
       "    <tr style=\"text-align: right;\">\n",
       "      <th></th>\n",
       "      <th>air</th>\n",
       "      <th>jordan</th>\n",
       "      <th>1</th>\n",
       "      <th>mid</th>\n",
       "      <th>mens</th>\n",
       "      <th>lifestyle</th>\n",
       "      <th>inspired</th>\n",
       "      <th>original</th>\n",
       "      <th>aj1</th>\n",
       "      <th>offers</th>\n",
       "      <th>...</th>\n",
       "      <th>grass</th>\n",
       "      <th>artisan</th>\n",
       "      <th>coating</th>\n",
       "      <th>slides</th>\n",
       "      <th>decades</th>\n",
       "      <th>internationalist</th>\n",
       "      <th>eyestays</th>\n",
       "      <th>pink</th>\n",
       "      <th>ispa</th>\n",
       "      <th>guo</th>\n",
       "    </tr>\n",
       "  </thead>\n",
       "  <tbody>\n",
       "    <tr>\n",
       "      <th>0</th>\n",
       "      <td>2</td>\n",
       "      <td>2</td>\n",
       "      <td>2</td>\n",
       "      <td>2</td>\n",
       "      <td>1</td>\n",
       "      <td>1</td>\n",
       "      <td>1</td>\n",
       "      <td>1</td>\n",
       "      <td>1</td>\n",
       "      <td>1</td>\n",
       "      <td>...</td>\n",
       "      <td>0</td>\n",
       "      <td>0</td>\n",
       "      <td>0</td>\n",
       "      <td>0</td>\n",
       "      <td>0</td>\n",
       "      <td>0</td>\n",
       "      <td>0</td>\n",
       "      <td>0</td>\n",
       "      <td>0</td>\n",
       "      <td>0</td>\n",
       "    </tr>\n",
       "    <tr>\n",
       "      <th>1</th>\n",
       "      <td>0</td>\n",
       "      <td>0</td>\n",
       "      <td>0</td>\n",
       "      <td>2</td>\n",
       "      <td>0</td>\n",
       "      <td>1</td>\n",
       "      <td>0</td>\n",
       "      <td>0</td>\n",
       "      <td>0</td>\n",
       "      <td>0</td>\n",
       "      <td>...</td>\n",
       "      <td>0</td>\n",
       "      <td>0</td>\n",
       "      <td>0</td>\n",
       "      <td>0</td>\n",
       "      <td>0</td>\n",
       "      <td>0</td>\n",
       "      <td>0</td>\n",
       "      <td>0</td>\n",
       "      <td>0</td>\n",
       "      <td>0</td>\n",
       "    </tr>\n",
       "  </tbody>\n",
       "</table>\n",
       "<p>2 rows × 1514 columns</p>\n",
       "</div>"
      ],
      "text/plain": [
       "   air  jordan  1  mid  mens  lifestyle  inspired  original  aj1  offers  ...  \\\n",
       "0    2       2  2    2     1          1         1         1    1       1  ...   \n",
       "1    0       0  0    2     0          1         0         0    0       0  ...   \n",
       "\n",
       "   grass  artisan  coating  slides  decades  internationalist  eyestays  pink  \\\n",
       "0      0        0        0       0        0                 0         0     0   \n",
       "1      0        0        0       0        0                 0         0     0   \n",
       "\n",
       "   ispa  guo  \n",
       "0     0    0  \n",
       "1     0    0  \n",
       "\n",
       "[2 rows x 1514 columns]"
      ]
     },
     "execution_count": 25,
     "metadata": {},
     "output_type": "execute_result"
    }
   ],
   "source": [
    "# remove low-occurance words\n",
    "# vectorization methods\n",
    "df['text'] = df['text'].apply(lambda x: [w for w in x if w in vocab])\n",
    "# bag of words representation\n",
    "# list of Counters\n",
    "# each Counter containing word counts for each row in the DataFrame\n",
    "counts = df['text'].apply(Counter).to_list()\n",
    "# Create bag-of-words df from list of dictionaries\n",
    "bow_df = pd.DataFrame(counts).fillna(0).astype(int)\n",
    "bow_df.head(2)"
   ]
  },
  {
   "cell_type": "markdown",
   "id": "fccc8ee5",
   "metadata": {
    "tags": []
   },
   "source": [
    "## Make `price` Categorical with Binning"
   ]
  },
  {
   "cell_type": "code",
   "execution_count": 26,
   "id": "482ba9c3",
   "metadata": {},
   "outputs": [
    {
     "data": {
      "text/html": [
       "<div>\n",
       "<style scoped>\n",
       "    .dataframe tbody tr th:only-of-type {\n",
       "        vertical-align: middle;\n",
       "    }\n",
       "\n",
       "    .dataframe tbody tr th {\n",
       "        vertical-align: top;\n",
       "    }\n",
       "\n",
       "    .dataframe thead th {\n",
       "        text-align: right;\n",
       "    }\n",
       "</style>\n",
       "<table border=\"1\" class=\"dataframe\">\n",
       "  <thead>\n",
       "    <tr style=\"text-align: right;\">\n",
       "      <th></th>\n",
       "      <th>air</th>\n",
       "      <th>jordan</th>\n",
       "      <th>1</th>\n",
       "      <th>mid</th>\n",
       "      <th>mens</th>\n",
       "      <th>lifestyle</th>\n",
       "      <th>inspired</th>\n",
       "      <th>original</th>\n",
       "      <th>aj1</th>\n",
       "      <th>offers</th>\n",
       "      <th>...</th>\n",
       "      <th>artisan</th>\n",
       "      <th>coating</th>\n",
       "      <th>slides</th>\n",
       "      <th>decades</th>\n",
       "      <th>internationalist</th>\n",
       "      <th>eyestays</th>\n",
       "      <th>pink</th>\n",
       "      <th>ispa</th>\n",
       "      <th>guo</th>\n",
       "      <th>price</th>\n",
       "    </tr>\n",
       "  </thead>\n",
       "  <tbody>\n",
       "    <tr>\n",
       "      <th>0</th>\n",
       "      <td>2.0</td>\n",
       "      <td>2.0</td>\n",
       "      <td>2.0</td>\n",
       "      <td>2.0</td>\n",
       "      <td>1.0</td>\n",
       "      <td>1.0</td>\n",
       "      <td>1.0</td>\n",
       "      <td>1.0</td>\n",
       "      <td>1.0</td>\n",
       "      <td>1.0</td>\n",
       "      <td>...</td>\n",
       "      <td>0.0</td>\n",
       "      <td>0.0</td>\n",
       "      <td>0.0</td>\n",
       "      <td>0.0</td>\n",
       "      <td>0.0</td>\n",
       "      <td>0.0</td>\n",
       "      <td>0.0</td>\n",
       "      <td>0.0</td>\n",
       "      <td>0.0</td>\n",
       "      <td>125.0</td>\n",
       "    </tr>\n",
       "    <tr>\n",
       "      <th>1</th>\n",
       "      <td>0.0</td>\n",
       "      <td>0.0</td>\n",
       "      <td>0.0</td>\n",
       "      <td>2.0</td>\n",
       "      <td>0.0</td>\n",
       "      <td>1.0</td>\n",
       "      <td>0.0</td>\n",
       "      <td>0.0</td>\n",
       "      <td>0.0</td>\n",
       "      <td>0.0</td>\n",
       "      <td>...</td>\n",
       "      <td>0.0</td>\n",
       "      <td>0.0</td>\n",
       "      <td>0.0</td>\n",
       "      <td>0.0</td>\n",
       "      <td>0.0</td>\n",
       "      <td>0.0</td>\n",
       "      <td>0.0</td>\n",
       "      <td>0.0</td>\n",
       "      <td>0.0</td>\n",
       "      <td>105.0</td>\n",
       "    </tr>\n",
       "    <tr>\n",
       "      <th>2</th>\n",
       "      <td>0.0</td>\n",
       "      <td>0.0</td>\n",
       "      <td>0.0</td>\n",
       "      <td>0.0</td>\n",
       "      <td>1.0</td>\n",
       "      <td>1.0</td>\n",
       "      <td>0.0</td>\n",
       "      <td>1.0</td>\n",
       "      <td>0.0</td>\n",
       "      <td>0.0</td>\n",
       "      <td>...</td>\n",
       "      <td>0.0</td>\n",
       "      <td>0.0</td>\n",
       "      <td>0.0</td>\n",
       "      <td>0.0</td>\n",
       "      <td>0.0</td>\n",
       "      <td>0.0</td>\n",
       "      <td>0.0</td>\n",
       "      <td>0.0</td>\n",
       "      <td>0.0</td>\n",
       "      <td>110.0</td>\n",
       "    </tr>\n",
       "    <tr>\n",
       "      <th>3</th>\n",
       "      <td>2.0</td>\n",
       "      <td>0.0</td>\n",
       "      <td>2.0</td>\n",
       "      <td>0.0</td>\n",
       "      <td>1.0</td>\n",
       "      <td>1.0</td>\n",
       "      <td>0.0</td>\n",
       "      <td>0.0</td>\n",
       "      <td>0.0</td>\n",
       "      <td>0.0</td>\n",
       "      <td>...</td>\n",
       "      <td>0.0</td>\n",
       "      <td>0.0</td>\n",
       "      <td>0.0</td>\n",
       "      <td>0.0</td>\n",
       "      <td>0.0</td>\n",
       "      <td>0.0</td>\n",
       "      <td>0.0</td>\n",
       "      <td>0.0</td>\n",
       "      <td>0.0</td>\n",
       "      <td>110.0</td>\n",
       "    </tr>\n",
       "    <tr>\n",
       "      <th>4</th>\n",
       "      <td>2.0</td>\n",
       "      <td>1.0</td>\n",
       "      <td>0.0</td>\n",
       "      <td>0.0</td>\n",
       "      <td>1.0</td>\n",
       "      <td>1.0</td>\n",
       "      <td>0.0</td>\n",
       "      <td>1.0</td>\n",
       "      <td>0.0</td>\n",
       "      <td>0.0</td>\n",
       "      <td>...</td>\n",
       "      <td>0.0</td>\n",
       "      <td>0.0</td>\n",
       "      <td>0.0</td>\n",
       "      <td>0.0</td>\n",
       "      <td>0.0</td>\n",
       "      <td>0.0</td>\n",
       "      <td>0.0</td>\n",
       "      <td>0.0</td>\n",
       "      <td>0.0</td>\n",
       "      <td>200.0</td>\n",
       "    </tr>\n",
       "  </tbody>\n",
       "</table>\n",
       "<p>5 rows × 1515 columns</p>\n",
       "</div>"
      ],
      "text/plain": [
       "   air  jordan    1  mid  mens  lifestyle  inspired  original  aj1  offers  \\\n",
       "0  2.0     2.0  2.0  2.0   1.0        1.0       1.0       1.0  1.0     1.0   \n",
       "1  0.0     0.0  0.0  2.0   0.0        1.0       0.0       0.0  0.0     0.0   \n",
       "2  0.0     0.0  0.0  0.0   1.0        1.0       0.0       1.0  0.0     0.0   \n",
       "3  2.0     0.0  2.0  0.0   1.0        1.0       0.0       0.0  0.0     0.0   \n",
       "4  2.0     1.0  0.0  0.0   1.0        1.0       0.0       1.0  0.0     0.0   \n",
       "\n",
       "   ...  artisan  coating  slides  decades  internationalist  eyestays  pink  \\\n",
       "0  ...      0.0      0.0     0.0      0.0               0.0       0.0   0.0   \n",
       "1  ...      0.0      0.0     0.0      0.0               0.0       0.0   0.0   \n",
       "2  ...      0.0      0.0     0.0      0.0               0.0       0.0   0.0   \n",
       "3  ...      0.0      0.0     0.0      0.0               0.0       0.0   0.0   \n",
       "4  ...      0.0      0.0     0.0      0.0               0.0       0.0   0.0   \n",
       "\n",
       "   ispa  guo  price  \n",
       "0   0.0  0.0  125.0  \n",
       "1   0.0  0.0  105.0  \n",
       "2   0.0  0.0  110.0  \n",
       "3   0.0  0.0  110.0  \n",
       "4   0.0  0.0  200.0  \n",
       "\n",
       "[5 rows x 1515 columns]"
      ]
     },
     "execution_count": 26,
     "metadata": {},
     "output_type": "execute_result"
    }
   ],
   "source": [
    "# df.reset_index(drop=True, inplace=True)\n",
    "# combine what is effectively our X and y into a single DataFrame\n",
    "# df_processed = bow_df.join(df[['price']])\n",
    "df_processed = pd.concat([bow_df, df['price']], axis=1)\n",
    "df_processed.head()"
   ]
  },
  {
   "cell_type": "code",
   "execution_count": 27,
   "id": "cbf1f9da",
   "metadata": {},
   "outputs": [
    {
     "data": {
      "text/plain": [
       "(24.675, 90.0]    595\n",
       "(90.0, 155.0]     568\n",
       "(155.0, 220.0]    173\n",
       "(220.0, 285.0]     26\n",
       "(285.0, 350.0]      4\n",
       "Name: price, dtype: int64"
      ]
     },
     "execution_count": 27,
     "metadata": {},
     "output_type": "execute_result"
    }
   ],
   "source": [
    "# check default percentile cut\n",
    "pd.cut(df_processed.price, bins = 5).value_counts()"
   ]
  },
  {
   "cell_type": "markdown",
   "id": "3847a7dc-bd43-405c-aa75-9fbe49a3c4a2",
   "metadata": {},
   "source": [
    "The above cuts are extremely imbalanced. Manual cuts are performed based on the discretion"
   ]
  },
  {
   "cell_type": "code",
   "execution_count": 28,
   "id": "a98a883c-a2c2-49bd-b65f-02cc3456c127",
   "metadata": {},
   "outputs": [],
   "source": [
    "# make everything > 200 its only bin\n",
    "df_processed['is_above_180'] = df_processed.price > 180\n",
    "df_processed['bracket'] = df_processed.price > 180\n",
    "df_processed['bracket'].replace(True, 'above_180', inplace=True)\n",
    "df_processed['bracket'].replace(False, np.nan, inplace=True)"
   ]
  },
  {
   "cell_type": "code",
   "execution_count": 29,
   "id": "7ab3957b-c621-40b5-b665-978951cef53a",
   "metadata": {},
   "outputs": [
    {
     "name": "stdout",
     "output_type": "stream",
     "text": [
      "Price brackets:\n",
      "(63.75, 102.5]     448\n",
      "(102.5, 141.25]    401\n",
      "(24.845, 63.75]    245\n",
      "(141.25, 180.0]    167\n",
      "above_180          105\n",
      "Name: price, dtype: int64\n",
      "(63.75, 102.5]     0.327965\n",
      "(102.5, 141.25]    0.293558\n",
      "(24.845, 63.75]    0.179356\n",
      "(141.25, 180.0]    0.122255\n",
      "above_180          0.076867\n",
      "Name: price, dtype: float64\n"
     ]
    }
   ],
   "source": [
    "# use default binning for <= 200\n",
    "binned_low_brackets = pd.cut(df_processed.loc[~df_processed['is_above_180'], 'price'], \n",
    "                             bins = 4)\n",
    "# combine the bins\n",
    "df_processed['bracket'] = df_processed['bracket'].fillna(binned_low_brackets)\n",
    "df_processed['price'] = df_processed['bracket']  # .astype('string')\n",
    "print(\"Price brackets:\")\n",
    "print(df_processed['price'].value_counts())\n",
    "print(df_processed['price'].value_counts(normalize = True))"
   ]
  },
  {
   "cell_type": "code",
   "execution_count": 30,
   "id": "9ec8a823-80d6-4014-9c2c-92f7fbb1b169",
   "metadata": {},
   "outputs": [
    {
     "data": {
      "text/html": [
       "<div>\n",
       "<style scoped>\n",
       "    .dataframe tbody tr th:only-of-type {\n",
       "        vertical-align: middle;\n",
       "    }\n",
       "\n",
       "    .dataframe tbody tr th {\n",
       "        vertical-align: top;\n",
       "    }\n",
       "\n",
       "    .dataframe thead th {\n",
       "        text-align: right;\n",
       "    }\n",
       "</style>\n",
       "<table border=\"1\" class=\"dataframe\">\n",
       "  <thead>\n",
       "    <tr style=\"text-align: right;\">\n",
       "      <th></th>\n",
       "      <th>air</th>\n",
       "      <th>jordan</th>\n",
       "      <th>1</th>\n",
       "      <th>mid</th>\n",
       "      <th>mens</th>\n",
       "      <th>lifestyle</th>\n",
       "      <th>inspired</th>\n",
       "      <th>original</th>\n",
       "      <th>aj1</th>\n",
       "      <th>offers</th>\n",
       "      <th>...</th>\n",
       "      <th>artisan</th>\n",
       "      <th>coating</th>\n",
       "      <th>slides</th>\n",
       "      <th>decades</th>\n",
       "      <th>internationalist</th>\n",
       "      <th>eyestays</th>\n",
       "      <th>pink</th>\n",
       "      <th>ispa</th>\n",
       "      <th>guo</th>\n",
       "      <th>price</th>\n",
       "    </tr>\n",
       "  </thead>\n",
       "  <tbody>\n",
       "    <tr>\n",
       "      <th>0</th>\n",
       "      <td>2.0</td>\n",
       "      <td>2.0</td>\n",
       "      <td>2.0</td>\n",
       "      <td>2.0</td>\n",
       "      <td>1.0</td>\n",
       "      <td>1.0</td>\n",
       "      <td>1.0</td>\n",
       "      <td>1.0</td>\n",
       "      <td>1.0</td>\n",
       "      <td>1.0</td>\n",
       "      <td>...</td>\n",
       "      <td>0.0</td>\n",
       "      <td>0.0</td>\n",
       "      <td>0.0</td>\n",
       "      <td>0.0</td>\n",
       "      <td>0.0</td>\n",
       "      <td>0.0</td>\n",
       "      <td>0.0</td>\n",
       "      <td>0.0</td>\n",
       "      <td>0.0</td>\n",
       "      <td>(102.5, 141.25]</td>\n",
       "    </tr>\n",
       "    <tr>\n",
       "      <th>1</th>\n",
       "      <td>0.0</td>\n",
       "      <td>0.0</td>\n",
       "      <td>0.0</td>\n",
       "      <td>2.0</td>\n",
       "      <td>0.0</td>\n",
       "      <td>1.0</td>\n",
       "      <td>0.0</td>\n",
       "      <td>0.0</td>\n",
       "      <td>0.0</td>\n",
       "      <td>0.0</td>\n",
       "      <td>...</td>\n",
       "      <td>0.0</td>\n",
       "      <td>0.0</td>\n",
       "      <td>0.0</td>\n",
       "      <td>0.0</td>\n",
       "      <td>0.0</td>\n",
       "      <td>0.0</td>\n",
       "      <td>0.0</td>\n",
       "      <td>0.0</td>\n",
       "      <td>0.0</td>\n",
       "      <td>(102.5, 141.25]</td>\n",
       "    </tr>\n",
       "    <tr>\n",
       "      <th>2</th>\n",
       "      <td>0.0</td>\n",
       "      <td>0.0</td>\n",
       "      <td>0.0</td>\n",
       "      <td>0.0</td>\n",
       "      <td>1.0</td>\n",
       "      <td>1.0</td>\n",
       "      <td>0.0</td>\n",
       "      <td>1.0</td>\n",
       "      <td>0.0</td>\n",
       "      <td>0.0</td>\n",
       "      <td>...</td>\n",
       "      <td>0.0</td>\n",
       "      <td>0.0</td>\n",
       "      <td>0.0</td>\n",
       "      <td>0.0</td>\n",
       "      <td>0.0</td>\n",
       "      <td>0.0</td>\n",
       "      <td>0.0</td>\n",
       "      <td>0.0</td>\n",
       "      <td>0.0</td>\n",
       "      <td>(102.5, 141.25]</td>\n",
       "    </tr>\n",
       "    <tr>\n",
       "      <th>3</th>\n",
       "      <td>2.0</td>\n",
       "      <td>0.0</td>\n",
       "      <td>2.0</td>\n",
       "      <td>0.0</td>\n",
       "      <td>1.0</td>\n",
       "      <td>1.0</td>\n",
       "      <td>0.0</td>\n",
       "      <td>0.0</td>\n",
       "      <td>0.0</td>\n",
       "      <td>0.0</td>\n",
       "      <td>...</td>\n",
       "      <td>0.0</td>\n",
       "      <td>0.0</td>\n",
       "      <td>0.0</td>\n",
       "      <td>0.0</td>\n",
       "      <td>0.0</td>\n",
       "      <td>0.0</td>\n",
       "      <td>0.0</td>\n",
       "      <td>0.0</td>\n",
       "      <td>0.0</td>\n",
       "      <td>(102.5, 141.25]</td>\n",
       "    </tr>\n",
       "    <tr>\n",
       "      <th>4</th>\n",
       "      <td>2.0</td>\n",
       "      <td>1.0</td>\n",
       "      <td>0.0</td>\n",
       "      <td>0.0</td>\n",
       "      <td>1.0</td>\n",
       "      <td>1.0</td>\n",
       "      <td>0.0</td>\n",
       "      <td>1.0</td>\n",
       "      <td>0.0</td>\n",
       "      <td>0.0</td>\n",
       "      <td>...</td>\n",
       "      <td>0.0</td>\n",
       "      <td>0.0</td>\n",
       "      <td>0.0</td>\n",
       "      <td>0.0</td>\n",
       "      <td>0.0</td>\n",
       "      <td>0.0</td>\n",
       "      <td>0.0</td>\n",
       "      <td>0.0</td>\n",
       "      <td>0.0</td>\n",
       "      <td>above_180</td>\n",
       "    </tr>\n",
       "  </tbody>\n",
       "</table>\n",
       "<p>5 rows × 1515 columns</p>\n",
       "</div>"
      ],
      "text/plain": [
       "   air  jordan    1  mid  mens  lifestyle  inspired  original  aj1  offers  \\\n",
       "0  2.0     2.0  2.0  2.0   1.0        1.0       1.0       1.0  1.0     1.0   \n",
       "1  0.0     0.0  0.0  2.0   0.0        1.0       0.0       0.0  0.0     0.0   \n",
       "2  0.0     0.0  0.0  0.0   1.0        1.0       0.0       1.0  0.0     0.0   \n",
       "3  2.0     0.0  2.0  0.0   1.0        1.0       0.0       0.0  0.0     0.0   \n",
       "4  2.0     1.0  0.0  0.0   1.0        1.0       0.0       1.0  0.0     0.0   \n",
       "\n",
       "   ...  artisan  coating  slides  decades  internationalist  eyestays  pink  \\\n",
       "0  ...      0.0      0.0     0.0      0.0               0.0       0.0   0.0   \n",
       "1  ...      0.0      0.0     0.0      0.0               0.0       0.0   0.0   \n",
       "2  ...      0.0      0.0     0.0      0.0               0.0       0.0   0.0   \n",
       "3  ...      0.0      0.0     0.0      0.0               0.0       0.0   0.0   \n",
       "4  ...      0.0      0.0     0.0      0.0               0.0       0.0   0.0   \n",
       "\n",
       "   ispa  guo            price  \n",
       "0   0.0  0.0  (102.5, 141.25]  \n",
       "1   0.0  0.0  (102.5, 141.25]  \n",
       "2   0.0  0.0  (102.5, 141.25]  \n",
       "3   0.0  0.0  (102.5, 141.25]  \n",
       "4   0.0  0.0        above_180  \n",
       "\n",
       "[5 rows x 1515 columns]"
      ]
     },
     "execution_count": 30,
     "metadata": {},
     "output_type": "execute_result"
    }
   ],
   "source": [
    "# clean up\n",
    "df_processed.drop(['is_above_180', 'bracket'], axis = 1, inplace=True)\n",
    "df_processed.head()"
   ]
  },
  {
   "cell_type": "code",
   "execution_count": 31,
   "id": "48e89ca6-228f-44e0-a445-39abaa1c43df",
   "metadata": {},
   "outputs": [],
   "source": [
    "df_processed.dropna(inplace = True)"
   ]
  },
  {
   "cell_type": "markdown",
   "id": "b962976f",
   "metadata": {},
   "source": [
    "## Naive Bayes Model of `price ~ bag_of_words(description)`"
   ]
  },
  {
   "cell_type": "code",
   "execution_count": 32,
   "id": "4acea928-3e23-4391-a901-62fa39099a4e",
   "metadata": {},
   "outputs": [],
   "source": [
    "df_processed1 = df_processed.copy()\n",
    "df_processed1['price'] = df_processed1['price'].astype('string')"
   ]
  },
  {
   "cell_type": "code",
   "execution_count": 33,
   "id": "5b0d6e11",
   "metadata": {},
   "outputs": [],
   "source": [
    "X_train, X_test, y_train, y_test = train_test_split(df_processed1.drop('price', axis = 1),\n",
    "                                                    df_processed1['price'], \n",
    "                                                    test_size = 0.2, random_state = 2)"
   ]
  },
  {
   "cell_type": "code",
   "execution_count": 34,
   "id": "99ce1da6-f145-49df-9d85-2b16ba49cd38",
   "metadata": {},
   "outputs": [],
   "source": [
    "mnb = MultinomialNB(alpha = 0.001).fit(X_train, y_train)"
   ]
  },
  {
   "cell_type": "code",
   "execution_count": 35,
   "id": "3dc288eb-0204-4621-af66-0708f676424d",
   "metadata": {},
   "outputs": [
    {
     "data": {
      "text/plain": [
       "0.31135531135531136"
      ]
     },
     "execution_count": 35,
     "metadata": {},
     "output_type": "execute_result"
    }
   ],
   "source": [
    "mnb.score(X_test, y_test)"
   ]
  },
  {
   "cell_type": "markdown",
   "id": "0f1ef9a5-2456-4a4f-b5cb-434a43e31f1c",
   "metadata": {},
   "source": [
    "***Feature importance for each class:***"
   ]
  },
  {
   "cell_type": "code",
   "execution_count": 36,
   "id": "ae9b79c3-6a93-4c56-9f1c-7a83d3331825",
   "metadata": {},
   "outputs": [
    {
     "data": {
      "text/plain": [
       "(63.75, 102.5]     357\n",
       "(102.5, 141.25]    318\n",
       "(24.845, 63.75]    202\n",
       "(141.25, 180.0]    132\n",
       "above_180           82\n",
       "Name: price, dtype: Int64"
      ]
     },
     "execution_count": 36,
     "metadata": {},
     "output_type": "execute_result"
    }
   ],
   "source": [
    "# 5 brackets\n",
    "y_train.value_counts(sort=False)"
   ]
  },
  {
   "cell_type": "code",
   "execution_count": 37,
   "id": "fa6f9fb7-a7f1-4577-9cbf-a498847a294a",
   "metadata": {},
   "outputs": [],
   "source": [
    "# get most predictive words for each class (bracket 1 and bracket 3)\n",
    "feat_imp_list = []\n",
    "\n",
    "for i in range(len(mnb.classes_)):\n",
    "    class_prob_sorted = mnb.feature_log_prob_[i, :].argsort()[::-1]\n",
    "    top_pred_words = np.take(bow_df.columns, class_prob_sorted[:])\n",
    "    feat_imp_list.append(top_pred_words)"
   ]
  },
  {
   "cell_type": "markdown",
   "id": "7a57d702-3e48-42d1-8308-fe36e2e93c78",
   "metadata": {},
   "source": [
    "**The top 10 most predictive words for each price bracket:**"
   ]
  },
  {
   "cell_type": "code",
   "execution_count": 38,
   "id": "8d59dad7-b297-4003-823c-c0ce4dc93d8f",
   "metadata": {},
   "outputs": [
    {
     "data": {
      "text/html": [
       "<div>\n",
       "<style scoped>\n",
       "    .dataframe tbody tr th:only-of-type {\n",
       "        vertical-align: middle;\n",
       "    }\n",
       "\n",
       "    .dataframe tbody tr th {\n",
       "        vertical-align: top;\n",
       "    }\n",
       "\n",
       "    .dataframe thead th {\n",
       "        text-align: right;\n",
       "    }\n",
       "</style>\n",
       "<table border=\"1\" class=\"dataframe\">\n",
       "  <thead>\n",
       "    <tr style=\"text-align: right;\">\n",
       "      <th></th>\n",
       "      <th>(63.75, 102.5]</th>\n",
       "      <th>(102.5, 141.25]</th>\n",
       "      <th>(24.845, 63.75]</th>\n",
       "      <th>(141.25, 180.0]</th>\n",
       "      <th>above_180</th>\n",
       "    </tr>\n",
       "  </thead>\n",
       "  <tbody>\n",
       "    <tr>\n",
       "      <th>0</th>\n",
       "      <td>nike</td>\n",
       "      <td>nike</td>\n",
       "      <td>nike</td>\n",
       "      <td>nike</td>\n",
       "      <td>nike</td>\n",
       "    </tr>\n",
       "    <tr>\n",
       "      <th>1</th>\n",
       "      <td>air</td>\n",
       "      <td>air</td>\n",
       "      <td>air</td>\n",
       "      <td>air</td>\n",
       "      <td>air</td>\n",
       "    </tr>\n",
       "    <tr>\n",
       "      <th>2</th>\n",
       "      <td>lifestyle</td>\n",
       "      <td>lifestyle</td>\n",
       "      <td>lifestyle</td>\n",
       "      <td>lifestyle</td>\n",
       "      <td>lifestyle</td>\n",
       "    </tr>\n",
       "    <tr>\n",
       "      <th>3</th>\n",
       "      <td>mens</td>\n",
       "      <td>mens</td>\n",
       "      <td>mens</td>\n",
       "      <td>mens</td>\n",
       "      <td>mens</td>\n",
       "    </tr>\n",
       "    <tr>\n",
       "      <th>4</th>\n",
       "      <td>design</td>\n",
       "      <td>1</td>\n",
       "      <td>max</td>\n",
       "      <td>max</td>\n",
       "      <td>design</td>\n",
       "    </tr>\n",
       "    <tr>\n",
       "      <th>5</th>\n",
       "      <td>1</td>\n",
       "      <td>design</td>\n",
       "      <td>design</td>\n",
       "      <td>design</td>\n",
       "      <td>max</td>\n",
       "    </tr>\n",
       "    <tr>\n",
       "      <th>6</th>\n",
       "      <td>kids</td>\n",
       "      <td>max</td>\n",
       "      <td>kids</td>\n",
       "      <td>kids</td>\n",
       "      <td>kids</td>\n",
       "    </tr>\n",
       "    <tr>\n",
       "      <th>7</th>\n",
       "      <td>max</td>\n",
       "      <td>comfort</td>\n",
       "      <td>2</td>\n",
       "      <td>comfort</td>\n",
       "      <td>look</td>\n",
       "    </tr>\n",
       "    <tr>\n",
       "      <th>8</th>\n",
       "      <td>zoom</td>\n",
       "      <td>classic</td>\n",
       "      <td>cushioning</td>\n",
       "      <td>look</td>\n",
       "      <td>comfort</td>\n",
       "    </tr>\n",
       "    <tr>\n",
       "      <th>9</th>\n",
       "      <td>running</td>\n",
       "      <td>jordan</td>\n",
       "      <td>1</td>\n",
       "      <td>jordan</td>\n",
       "      <td>1</td>\n",
       "    </tr>\n",
       "  </tbody>\n",
       "</table>\n",
       "</div>"
      ],
      "text/plain": [
       "  (63.75, 102.5] (102.5, 141.25] (24.845, 63.75] (141.25, 180.0]  above_180\n",
       "0           nike            nike            nike            nike       nike\n",
       "1            air             air             air             air        air\n",
       "2      lifestyle       lifestyle       lifestyle       lifestyle  lifestyle\n",
       "3           mens            mens            mens            mens       mens\n",
       "4         design               1             max             max     design\n",
       "5              1          design          design          design        max\n",
       "6           kids             max            kids            kids       kids\n",
       "7            max         comfort               2         comfort       look\n",
       "8           zoom         classic      cushioning            look    comfort\n",
       "9        running          jordan               1          jordan          1"
      ]
     },
     "execution_count": 38,
     "metadata": {},
     "output_type": "execute_result"
    }
   ],
   "source": [
    "# prettify list to df\n",
    "feat_imp_df = pd.DataFrame(np.array(feat_imp_list).T, columns=mnb.classes_)\n",
    "feat_imp_df = feat_imp_df.loc[:, y_train.value_counts(sort=False).index]  # reorder columns\n",
    "feat_imp_df.head(10)"
   ]
  },
  {
   "cell_type": "markdown",
   "id": "2a2e247e-54c4-44c1-8d07-39865ae5c1b7",
   "metadata": {},
   "source": [
    "# Word Feature Importance with Random Forest"
   ]
  },
  {
   "cell_type": "code",
   "execution_count": 39,
   "id": "c850c0a7-ad80-4a74-8a25-8d3d75bac37f",
   "metadata": {},
   "outputs": [],
   "source": [
    "rf = RandomForestClassifier(n_estimators = 80, max_depth = 10,\n",
    "                            min_samples_leaf = 8, random_state = 0).fit(X_train, y_train)\n",
    "random_forest_train_score = rf.score(X_train, y_train)\n",
    "random_forest_test_score = rf.score(X_test, y_test)"
   ]
  },
  {
   "cell_type": "code",
   "execution_count": 40,
   "id": "fb25452f-2b02-4c01-a112-a6f80606b74d",
   "metadata": {},
   "outputs": [
    {
     "name": "stdout",
     "output_type": "stream",
     "text": [
      "random forest training score is 0.4399633363886343\n",
      "random forest test score is 0.3663003663003663\n"
     ]
    }
   ],
   "source": [
    "print(f\"random forest training score is {random_forest_train_score}\")\n",
    "print(f\"random forest test score is {random_forest_test_score}\")"
   ]
  },
  {
   "cell_type": "code",
   "execution_count": 41,
   "id": "5a097b8f-cbcf-4282-bc14-03f18b5a7776",
   "metadata": {},
   "outputs": [
    {
     "name": "stdout",
     "output_type": "stream",
     "text": [
      "Top Predictor Counts - Random Forest\n"
     ]
    },
    {
     "data": {
      "text/html": [
       "<div>\n",
       "<style scoped>\n",
       "    .dataframe tbody tr th:only-of-type {\n",
       "        vertical-align: middle;\n",
       "    }\n",
       "\n",
       "    .dataframe tbody tr th {\n",
       "        vertical-align: top;\n",
       "    }\n",
       "\n",
       "    .dataframe thead th {\n",
       "        text-align: right;\n",
       "    }\n",
       "</style>\n",
       "<table border=\"1\" class=\"dataframe\">\n",
       "  <thead>\n",
       "    <tr style=\"text-align: right;\">\n",
       "      <th></th>\n",
       "      <th>Count</th>\n",
       "    </tr>\n",
       "  </thead>\n",
       "  <tbody>\n",
       "    <tr>\n",
       "      <th>legend</th>\n",
       "      <td>3</td>\n",
       "    </tr>\n",
       "    <tr>\n",
       "      <th>stitching</th>\n",
       "      <td>3</td>\n",
       "    </tr>\n",
       "    <tr>\n",
       "      <th>nike</th>\n",
       "      <td>2</td>\n",
       "    </tr>\n",
       "    <tr>\n",
       "      <th>lowtop</th>\n",
       "      <td>2</td>\n",
       "    </tr>\n",
       "    <tr>\n",
       "      <th>check</th>\n",
       "      <td>2</td>\n",
       "    </tr>\n",
       "    <tr>\n",
       "      <th>...</th>\n",
       "      <td>...</td>\n",
       "    </tr>\n",
       "    <tr>\n",
       "      <th>lightest</th>\n",
       "      <td>1</td>\n",
       "    </tr>\n",
       "    <tr>\n",
       "      <th>legacy</th>\n",
       "      <td>1</td>\n",
       "    </tr>\n",
       "    <tr>\n",
       "      <th>ankle</th>\n",
       "      <td>1</td>\n",
       "    </tr>\n",
       "    <tr>\n",
       "      <th>flair</th>\n",
       "      <td>1</td>\n",
       "    </tr>\n",
       "    <tr>\n",
       "      <th>gets</th>\n",
       "      <td>1</td>\n",
       "    </tr>\n",
       "  </tbody>\n",
       "</table>\n",
       "<p>70 rows × 1 columns</p>\n",
       "</div>"
      ],
      "text/plain": [
       "           Count\n",
       "legend         3\n",
       "stitching      3\n",
       "nike           2\n",
       "lowtop         2\n",
       "check          2\n",
       "...          ...\n",
       "lightest       1\n",
       "legacy         1\n",
       "ankle          1\n",
       "flair          1\n",
       "gets           1\n",
       "\n",
       "[70 rows x 1 columns]"
      ]
     },
     "metadata": {},
     "output_type": "display_data"
    }
   ],
   "source": [
    "top_predictors_rf = df_processed.columns[[dtree.tree_.feature[0] for dtree in rf.estimators_]]\n",
    "top_predictors_rf = pd.Series(top_predictors_rf).value_counts().sort_values(ascending = False)\n",
    "top_predictors_rf = pd.DataFrame(top_predictors_rf, columns = ['Count'])\n",
    "print(\"Top Predictor Counts - Random Forest\")\n",
    "display(top_predictors_rf)"
   ]
  },
  {
   "cell_type": "code",
   "execution_count": 42,
   "id": "6d849318-65b9-4997-b3ad-d6ded079dde9",
   "metadata": {},
   "outputs": [],
   "source": [
    "def plot_feature_importance(importance, names, imp_type, selected_top = 10):\n",
    "    feature_importance = np.array(importance)\n",
    "    feature_names = np.array(names)\n",
    "\n",
    "    data = {'feature_names': feature_names, 'feature_importance': feature_importance}\n",
    "    fi_df = pd.DataFrame(data)\n",
    "    fi_df.sort_values(by = ['feature_importance'], ascending = False, inplace = True)\n",
    "    \n",
    "    plt.figure(figsize=(6,4))\n",
    "    sns.barplot(x = fi_df.head(selected_top)['feature_importance'], \n",
    "                y = fi_df.head(selected_top)['feature_names'],\n",
    "                color = 'lightseagreen')\n",
    "    #Add chart labels\n",
    "    plt.title(imp_type + 'Feature Importance')\n",
    "    plt.xlabel('Feature Importance')\n",
    "    plt.ylabel('Feature Names')\n",
    "    \n",
    "    \n",
    "# Helper function to plot the feature importance (MDI & Perm)\n",
    "def plot_feature_importance_compare(mdi_imp, perm_imp, colnames):\n",
    "    plt.xkcd(scale=0.3,randomness=0.6)\n",
    "    fig, (ax1, ax2) = plt.subplots(1, 2, figsize = (14, 6))\n",
    "\n",
    "    mdi_importance_sorted_idx = np.argsort(mdi_imp)\n",
    "    mdi_indices = np.arange(0, len(mdi_imp)) +0.5\n",
    "\n",
    "    ax1.barh(mdi_indices, result1.importances_mean[mdi_importance_sorted_idx], \n",
    "              height = 0.7, color = '#B2D7D0')\n",
    "    ax1.set_yticks(mdi_indices)\n",
    "    ax1.set_yticklabels(colnames[mdi_importance_sorted_idx], fontsize = 12)\n",
    "    ax1.set_ylim((0, len(mdi_imp)))\n",
    "    ax1.set_xlabel(\"MDI-Based Feature Importance\", fontsize = 16)\n",
    "\n",
    "\n",
    "    perm_importance_sorted_idx = np.argsort(perm_imp)\n",
    "    perm_indices = np.arange(0, len(perm_imp)) +0.5\n",
    "    # difference = perm_imp['importances_mean'] - perm_imp['importances_mean']\n",
    "    # difference = difference[perm_importance_sorted_idx]\n",
    "\n",
    "    ax2.barh(perm_indices, perm_imp[perm_importance_sorted_idx], \n",
    "              height = 0.7, color = '#EFAEA4')\n",
    "   \n",
    "    ax2.set_yticks(perm_indices)\n",
    "    ax2.set_yticklabels(X.columns[perm_importance_sorted_idx], fontsize = 12)\n",
    "    ax2.set_ylim((0, len(perm_imp)))\n",
    "    ax2.set_xlabel(\"Permutation Feature Importance\", fontsize = 16)\n",
    "    maxlim = max(perm_imp)\n",
    "    ax2.set_xlim(0, maxlim + 0.015)\n",
    "    ax1.set_title(\"MDI-Based Importance\", fontsize = 18)\n",
    "    ax2.set_title(\"Permutation Importance\", fontsize = 18)\n",
    "    fig.tight_layout()\n",
    "    plt.show()"
   ]
  },
  {
   "cell_type": "markdown",
   "id": "60d28881-1f56-45a5-a2ba-da8e834309c1",
   "metadata": {},
   "source": [
    "**MDI-based and permutation feature importances**"
   ]
  },
  {
   "cell_type": "code",
   "execution_count": 43,
   "id": "6018f4ab-1794-4f8d-9986-026ec1a03f59",
   "metadata": {},
   "outputs": [
    {
     "data": {
      "image/png": "[encoded data removed]",
      "text/plain": [
       "<Figure size 600x400 with 1 Axes>"
      ]
     },
     "metadata": {},
     "output_type": "display_data"
    }
   ],
   "source": [
    "# TODO: X_train cols too big -> takes too long to compute\n",
    "# perm_imp = permutation_importance(rf, X_train, y_train)['importances_mean']\n",
    "# plot_feature_importance_compare(rf.feature_importances_, perm_imp, list(X_train.columns))\n",
    "plot_feature_importance(rf.feature_importances_, X_train.columns, 'MDI-Based ')\n",
    "# plot_feature_importance(permutation_importance(rf, X_train, y_train), X_train.columns, 'Permutation')"
   ]
  },
  {
   "cell_type": "markdown",
   "id": "6a502bbe-b7fd-4bd1-a07e-25ec61d08dbe",
   "metadata": {},
   "source": [
    "# TFIDF on BOW"
   ]
  },
  {
   "cell_type": "markdown",
   "id": "4ae4ff98-6139-4bbd-a99d-286f32f81940",
   "metadata": {},
   "source": [
    "**TF-IDF on text column**"
   ]
  },
  {
   "cell_type": "code",
   "execution_count": 44,
   "id": "7223f050-d5d9-406f-8031-1bff89cc6d73",
   "metadata": {},
   "outputs": [
    {
     "data": {
      "text/html": [
       "<div>\n",
       "<style scoped>\n",
       "    .dataframe tbody tr th:only-of-type {\n",
       "        vertical-align: middle;\n",
       "    }\n",
       "\n",
       "    .dataframe tbody tr th {\n",
       "        vertical-align: top;\n",
       "    }\n",
       "\n",
       "    .dataframe thead th {\n",
       "        text-align: right;\n",
       "    }\n",
       "</style>\n",
       "<table border=\"1\" class=\"dataframe\">\n",
       "  <thead>\n",
       "    <tr style=\"text-align: right;\">\n",
       "      <th></th>\n",
       "      <th>000</th>\n",
       "      <th>00s</th>\n",
       "      <th>01</th>\n",
       "      <th>04</th>\n",
       "      <th>05</th>\n",
       "      <th>06</th>\n",
       "      <th>07</th>\n",
       "      <th>10</th>\n",
       "      <th>100</th>\n",
       "      <th>10k</th>\n",
       "      <th>...</th>\n",
       "      <th>zigzag</th>\n",
       "      <th>zion</th>\n",
       "      <th>zip</th>\n",
       "      <th>zipper</th>\n",
       "      <th>zonal</th>\n",
       "      <th>zone</th>\n",
       "      <th>zoned</th>\n",
       "      <th>zones</th>\n",
       "      <th>zoom</th>\n",
       "      <th>zoomx</th>\n",
       "    </tr>\n",
       "  </thead>\n",
       "  <tbody>\n",
       "    <tr>\n",
       "      <th>0</th>\n",
       "      <td>0.0</td>\n",
       "      <td>0.0</td>\n",
       "      <td>0.0</td>\n",
       "      <td>0.0</td>\n",
       "      <td>0.0</td>\n",
       "      <td>0.0</td>\n",
       "      <td>0.000000</td>\n",
       "      <td>0.0</td>\n",
       "      <td>0.0</td>\n",
       "      <td>0.0</td>\n",
       "      <td>...</td>\n",
       "      <td>0.0</td>\n",
       "      <td>0.0</td>\n",
       "      <td>0.0</td>\n",
       "      <td>0.0</td>\n",
       "      <td>0.0</td>\n",
       "      <td>0.0</td>\n",
       "      <td>0.0</td>\n",
       "      <td>0.0</td>\n",
       "      <td>0.000000</td>\n",
       "      <td>0.0</td>\n",
       "    </tr>\n",
       "    <tr>\n",
       "      <th>1</th>\n",
       "      <td>0.0</td>\n",
       "      <td>0.0</td>\n",
       "      <td>0.0</td>\n",
       "      <td>0.0</td>\n",
       "      <td>0.0</td>\n",
       "      <td>0.0</td>\n",
       "      <td>0.000000</td>\n",
       "      <td>0.0</td>\n",
       "      <td>0.0</td>\n",
       "      <td>0.0</td>\n",
       "      <td>...</td>\n",
       "      <td>0.0</td>\n",
       "      <td>0.0</td>\n",
       "      <td>0.0</td>\n",
       "      <td>0.0</td>\n",
       "      <td>0.0</td>\n",
       "      <td>0.0</td>\n",
       "      <td>0.0</td>\n",
       "      <td>0.0</td>\n",
       "      <td>0.000000</td>\n",
       "      <td>0.0</td>\n",
       "    </tr>\n",
       "    <tr>\n",
       "      <th>2</th>\n",
       "      <td>0.0</td>\n",
       "      <td>0.0</td>\n",
       "      <td>0.0</td>\n",
       "      <td>0.0</td>\n",
       "      <td>0.0</td>\n",
       "      <td>0.0</td>\n",
       "      <td>0.000000</td>\n",
       "      <td>0.0</td>\n",
       "      <td>0.0</td>\n",
       "      <td>0.0</td>\n",
       "      <td>...</td>\n",
       "      <td>0.0</td>\n",
       "      <td>0.0</td>\n",
       "      <td>0.0</td>\n",
       "      <td>0.0</td>\n",
       "      <td>0.0</td>\n",
       "      <td>0.0</td>\n",
       "      <td>0.0</td>\n",
       "      <td>0.0</td>\n",
       "      <td>0.000000</td>\n",
       "      <td>0.0</td>\n",
       "    </tr>\n",
       "    <tr>\n",
       "      <th>3</th>\n",
       "      <td>0.0</td>\n",
       "      <td>0.0</td>\n",
       "      <td>0.0</td>\n",
       "      <td>0.0</td>\n",
       "      <td>0.0</td>\n",
       "      <td>0.0</td>\n",
       "      <td>0.336883</td>\n",
       "      <td>0.0</td>\n",
       "      <td>0.0</td>\n",
       "      <td>0.0</td>\n",
       "      <td>...</td>\n",
       "      <td>0.0</td>\n",
       "      <td>0.0</td>\n",
       "      <td>0.0</td>\n",
       "      <td>0.0</td>\n",
       "      <td>0.0</td>\n",
       "      <td>0.0</td>\n",
       "      <td>0.0</td>\n",
       "      <td>0.0</td>\n",
       "      <td>0.000000</td>\n",
       "      <td>0.0</td>\n",
       "    </tr>\n",
       "    <tr>\n",
       "      <th>4</th>\n",
       "      <td>0.0</td>\n",
       "      <td>0.0</td>\n",
       "      <td>0.0</td>\n",
       "      <td>0.0</td>\n",
       "      <td>0.0</td>\n",
       "      <td>0.0</td>\n",
       "      <td>0.000000</td>\n",
       "      <td>0.0</td>\n",
       "      <td>0.0</td>\n",
       "      <td>0.0</td>\n",
       "      <td>...</td>\n",
       "      <td>0.0</td>\n",
       "      <td>0.0</td>\n",
       "      <td>0.0</td>\n",
       "      <td>0.0</td>\n",
       "      <td>0.0</td>\n",
       "      <td>0.0</td>\n",
       "      <td>0.0</td>\n",
       "      <td>0.0</td>\n",
       "      <td>0.090476</td>\n",
       "      <td>0.0</td>\n",
       "    </tr>\n",
       "  </tbody>\n",
       "</table>\n",
       "<p>5 rows × 4416 columns</p>\n",
       "</div>"
      ],
      "text/plain": [
       "   000  00s   01   04   05   06        07   10  100  10k  ...  zigzag  zion  \\\n",
       "0  0.0  0.0  0.0  0.0  0.0  0.0  0.000000  0.0  0.0  0.0  ...     0.0   0.0   \n",
       "1  0.0  0.0  0.0  0.0  0.0  0.0  0.000000  0.0  0.0  0.0  ...     0.0   0.0   \n",
       "2  0.0  0.0  0.0  0.0  0.0  0.0  0.000000  0.0  0.0  0.0  ...     0.0   0.0   \n",
       "3  0.0  0.0  0.0  0.0  0.0  0.0  0.336883  0.0  0.0  0.0  ...     0.0   0.0   \n",
       "4  0.0  0.0  0.0  0.0  0.0  0.0  0.000000  0.0  0.0  0.0  ...     0.0   0.0   \n",
       "\n",
       "   zip  zipper  zonal  zone  zoned  zones      zoom  zoomx  \n",
       "0  0.0     0.0    0.0   0.0    0.0    0.0  0.000000    0.0  \n",
       "1  0.0     0.0    0.0   0.0    0.0    0.0  0.000000    0.0  \n",
       "2  0.0     0.0    0.0   0.0    0.0    0.0  0.000000    0.0  \n",
       "3  0.0     0.0    0.0   0.0    0.0    0.0  0.000000    0.0  \n",
       "4  0.0     0.0    0.0   0.0    0.0    0.0  0.090476    0.0  \n",
       "\n",
       "[5 rows x 4416 columns]"
      ]
     },
     "metadata": {},
     "output_type": "display_data"
    }
   ],
   "source": [
    "df = nike.loc[:, ['title', 'category', 'purpose', 'description', 'price']].copy()  # subset\n",
    "df['text'] = df['title'].str.cat(df['category'], sep = '; ', na_rep = '')\n",
    "df['text'] = df['text'].str.cat(df['purpose'], sep = '; ', na_rep = '')\n",
    "df['text'] = df['text'].str.cat(df['description'], sep = '; ', na_rep = '')\n",
    "df = df[['text', 'price']]\n",
    "df.dropna(inplace = True)  # dropna\n",
    "\n",
    "tfidf_vec = TfidfVectorizer(sublinear_tf = True, smooth_idf = True)\n",
    "tfidf_mat = tfidf_vec.fit_transform(df['text'])\n",
    "df_tfidf = pd.DataFrame(tfidf_mat.todense(), \n",
    "                        columns = tfidf_vec.get_feature_names_out())\n",
    "display(df_tfidf.head())\n",
    "df_tfidf.to_csv(\"data/nike_tfidf_mat.csv\")"
   ]
  },
  {
   "cell_type": "markdown",
   "id": "d216606a-f2b4-413e-bce0-44ef8003db35",
   "metadata": {},
   "source": [
    "## Prep Data for Advanced Modeling"
   ]
  },
  {
   "cell_type": "markdown",
   "id": "53f11835-1215-4fff-be7f-a327ce280b6d",
   "metadata": {},
   "source": [
    "### Non text features"
   ]
  },
  {
   "cell_type": "code",
   "execution_count": 45,
   "id": "19c6c0eb-3d9b-4d58-8768-1b8c7d4f6d67",
   "metadata": {},
   "outputs": [
    {
     "data": {
      "text/html": [
       "<div>\n",
       "<style scoped>\n",
       "    .dataframe tbody tr th:only-of-type {\n",
       "        vertical-align: middle;\n",
       "    }\n",
       "\n",
       "    .dataframe tbody tr th {\n",
       "        vertical-align: top;\n",
       "    }\n",
       "\n",
       "    .dataframe thead th {\n",
       "        text-align: right;\n",
       "    }\n",
       "</style>\n",
       "<table border=\"1\" class=\"dataframe\">\n",
       "  <thead>\n",
       "    <tr style=\"text-align: right;\">\n",
       "      <th></th>\n",
       "      <th>label</th>\n",
       "      <th>title</th>\n",
       "      <th>subtitle</th>\n",
       "      <th>num_colors</th>\n",
       "      <th>price</th>\n",
       "      <th>reduced_price</th>\n",
       "      <th>url</th>\n",
       "      <th>description</th>\n",
       "      <th>colors</th>\n",
       "      <th>n_reviews</th>\n",
       "      <th>avg_stars</th>\n",
       "      <th>category</th>\n",
       "      <th>purpose</th>\n",
       "    </tr>\n",
       "  </thead>\n",
       "  <tbody>\n",
       "    <tr>\n",
       "      <th>0</th>\n",
       "      <td>Best Seller</td>\n",
       "      <td>Air Jordan 1 Mid</td>\n",
       "      <td>Shoes</td>\n",
       "      <td>2.0</td>\n",
       "      <td>125.0</td>\n",
       "      <td>NaN</td>\n",
       "      <td>https://www.nike.com/t/air-jordan-1-mid-shoes-...</td>\n",
       "      <td>Inspired by the original AJ1, the Air Jordan 1...</td>\n",
       "      <td>Black/White/Fire Red; Black/Black/Black</td>\n",
       "      <td>2161.0</td>\n",
       "      <td>4.9</td>\n",
       "      <td>Men's</td>\n",
       "      <td>Lifestyle</td>\n",
       "    </tr>\n",
       "  </tbody>\n",
       "</table>\n",
       "</div>"
      ],
      "text/plain": [
       "         label             title subtitle  num_colors  price reduced_price  \\\n",
       "0  Best Seller  Air Jordan 1 Mid    Shoes         2.0  125.0           NaN   \n",
       "\n",
       "                                                 url  \\\n",
       "0  https://www.nike.com/t/air-jordan-1-mid-shoes-...   \n",
       "\n",
       "                                         description  \\\n",
       "0  Inspired by the original AJ1, the Air Jordan 1...   \n",
       "\n",
       "                                    colors  n_reviews  avg_stars category  \\\n",
       "0  Black/White/Fire Red; Black/Black/Black     2161.0        4.9    Men's   \n",
       "\n",
       "     purpose  \n",
       "0  Lifestyle  "
      ]
     },
     "execution_count": 45,
     "metadata": {},
     "output_type": "execute_result"
    }
   ],
   "source": [
    "# drop NA based on col description\n",
    "df = nike.dropna(subset = ['description']).copy()\n",
    "df.head(1)"
   ]
  },
  {
   "cell_type": "code",
   "execution_count": 46,
   "id": "b75f5873-e55d-4084-92ad-64463aad0aee",
   "metadata": {},
   "outputs": [
    {
     "data": {
      "text/plain": [
       "Lifestyle        757\n",
       "Running          116\n",
       "Soccer           106\n",
       "Basketball        62\n",
       "Sandal            61\n",
       "Custom            47\n",
       "Training          43\n",
       "Boot              38\n",
       "Golf              25\n",
       "Skate             24\n",
       "Track             19\n",
       "Tennis            14\n",
       "Baseball           9\n",
       "Racing             7\n",
       "Cycling            4\n",
       "Football           2\n",
       "Softball           2\n",
       "Weightlifting      1\n",
       "Volleyball         1\n",
       "Name: purpose, dtype: int64"
      ]
     },
     "execution_count": 46,
     "metadata": {},
     "output_type": "execute_result"
    }
   ],
   "source": [
    "# subtitle categorical feature\n",
    "purpose_freq = df.purpose.value_counts()\n",
    "purpose_freq"
   ]
  },
  {
   "cell_type": "code",
   "execution_count": 47,
   "id": "6701a141-0a55-4ef0-bbc8-bde06ef7aeda",
   "metadata": {},
   "outputs": [],
   "source": [
    "# clean purpose up - counts < 30, make them into an 'other' purpose\n",
    "df.loc[df.purpose.isin(purpose_freq[purpose_freq < 30].index), 'purpose'] = 'other'"
   ]
  },
  {
   "cell_type": "markdown",
   "id": "299568d5-557d-4611-b491-414352e13864",
   "metadata": {},
   "source": [
    "### Other non text features"
   ]
  },
  {
   "cell_type": "code",
   "execution_count": 48,
   "id": "6547d1f7-a5f0-42f0-ae58-2236aef473b2",
   "metadata": {},
   "outputs": [
    {
     "data": {
      "text/html": [
       "<div>\n",
       "<style scoped>\n",
       "    .dataframe tbody tr th:only-of-type {\n",
       "        vertical-align: middle;\n",
       "    }\n",
       "\n",
       "    .dataframe tbody tr th {\n",
       "        vertical-align: top;\n",
       "    }\n",
       "\n",
       "    .dataframe thead th {\n",
       "        text-align: right;\n",
       "    }\n",
       "</style>\n",
       "<table border=\"1\" class=\"dataframe\">\n",
       "  <thead>\n",
       "    <tr style=\"text-align: right;\">\n",
       "      <th></th>\n",
       "      <th>num_colors</th>\n",
       "      <th>n_reviews</th>\n",
       "      <th>avg_stars</th>\n",
       "      <th>category</th>\n",
       "      <th>purpose</th>\n",
       "    </tr>\n",
       "  </thead>\n",
       "  <tbody>\n",
       "    <tr>\n",
       "      <th>0</th>\n",
       "      <td>2.0</td>\n",
       "      <td>2161.0</td>\n",
       "      <td>4.9</td>\n",
       "      <td>Men's</td>\n",
       "      <td>Lifestyle</td>\n",
       "    </tr>\n",
       "    <tr>\n",
       "      <th>1</th>\n",
       "      <td>3.0</td>\n",
       "      <td>519.0</td>\n",
       "      <td>4.8</td>\n",
       "      <td>Women's</td>\n",
       "      <td>Lifestyle</td>\n",
       "    </tr>\n",
       "    <tr>\n",
       "      <th>2</th>\n",
       "      <td>1.0</td>\n",
       "      <td>0.0</td>\n",
       "      <td>0.0</td>\n",
       "      <td>Men's</td>\n",
       "      <td>Lifestyle</td>\n",
       "    </tr>\n",
       "  </tbody>\n",
       "</table>\n",
       "</div>"
      ],
      "text/plain": [
       "   num_colors  n_reviews  avg_stars category    purpose\n",
       "0         2.0     2161.0        4.9    Men's  Lifestyle\n",
       "1         3.0      519.0        4.8  Women's  Lifestyle\n",
       "2         1.0        0.0        0.0    Men's  Lifestyle"
      ]
     },
     "execution_count": 48,
     "metadata": {},
     "output_type": "execute_result"
    }
   ],
   "source": [
    "# subset\n",
    "df_sub = df.loc[:, ['num_colors', 'n_reviews', 'avg_stars', 'category', 'purpose']].copy()\n",
    "df_sub.head(3)"
   ]
  },
  {
   "cell_type": "code",
   "execution_count": 49,
   "id": "76280aea-13af-469c-9e26-4b568da5ceca",
   "metadata": {},
   "outputs": [
    {
     "data": {
      "text/html": [
       "<div>\n",
       "<style scoped>\n",
       "    .dataframe tbody tr th:only-of-type {\n",
       "        vertical-align: middle;\n",
       "    }\n",
       "\n",
       "    .dataframe tbody tr th {\n",
       "        vertical-align: top;\n",
       "    }\n",
       "\n",
       "    .dataframe thead th {\n",
       "        text-align: right;\n",
       "    }\n",
       "</style>\n",
       "<table border=\"1\" class=\"dataframe\">\n",
       "  <thead>\n",
       "    <tr style=\"text-align: right;\">\n",
       "      <th></th>\n",
       "      <th>num_colors</th>\n",
       "      <th>n_reviews</th>\n",
       "      <th>avg_stars</th>\n",
       "      <th>category_Infant's</th>\n",
       "      <th>category_Kids</th>\n",
       "      <th>category_Men's</th>\n",
       "      <th>category_Women's</th>\n",
       "      <th>purpose_Basketball</th>\n",
       "      <th>purpose_Boot</th>\n",
       "      <th>purpose_Custom</th>\n",
       "      <th>purpose_Lifestyle</th>\n",
       "      <th>purpose_Running</th>\n",
       "      <th>purpose_Sandal</th>\n",
       "      <th>purpose_Soccer</th>\n",
       "      <th>purpose_Training</th>\n",
       "      <th>purpose_other</th>\n",
       "    </tr>\n",
       "  </thead>\n",
       "  <tbody>\n",
       "    <tr>\n",
       "      <th>0</th>\n",
       "      <td>2.0</td>\n",
       "      <td>2161.0</td>\n",
       "      <td>4.9</td>\n",
       "      <td>0</td>\n",
       "      <td>0</td>\n",
       "      <td>1</td>\n",
       "      <td>0</td>\n",
       "      <td>0</td>\n",
       "      <td>0</td>\n",
       "      <td>0</td>\n",
       "      <td>1</td>\n",
       "      <td>0</td>\n",
       "      <td>0</td>\n",
       "      <td>0</td>\n",
       "      <td>0</td>\n",
       "      <td>0</td>\n",
       "    </tr>\n",
       "    <tr>\n",
       "      <th>1</th>\n",
       "      <td>3.0</td>\n",
       "      <td>519.0</td>\n",
       "      <td>4.8</td>\n",
       "      <td>0</td>\n",
       "      <td>0</td>\n",
       "      <td>0</td>\n",
       "      <td>1</td>\n",
       "      <td>0</td>\n",
       "      <td>0</td>\n",
       "      <td>0</td>\n",
       "      <td>1</td>\n",
       "      <td>0</td>\n",
       "      <td>0</td>\n",
       "      <td>0</td>\n",
       "      <td>0</td>\n",
       "      <td>0</td>\n",
       "    </tr>\n",
       "    <tr>\n",
       "      <th>2</th>\n",
       "      <td>1.0</td>\n",
       "      <td>0.0</td>\n",
       "      <td>0.0</td>\n",
       "      <td>0</td>\n",
       "      <td>0</td>\n",
       "      <td>1</td>\n",
       "      <td>0</td>\n",
       "      <td>0</td>\n",
       "      <td>0</td>\n",
       "      <td>0</td>\n",
       "      <td>1</td>\n",
       "      <td>0</td>\n",
       "      <td>0</td>\n",
       "      <td>0</td>\n",
       "      <td>0</td>\n",
       "      <td>0</td>\n",
       "    </tr>\n",
       "  </tbody>\n",
       "</table>\n",
       "</div>"
      ],
      "text/plain": [
       "   num_colors  n_reviews  avg_stars  category_Infant's  category_Kids  \\\n",
       "0         2.0     2161.0        4.9                  0              0   \n",
       "1         3.0      519.0        4.8                  0              0   \n",
       "2         1.0        0.0        0.0                  0              0   \n",
       "\n",
       "   category_Men's  category_Women's  purpose_Basketball  purpose_Boot  \\\n",
       "0               1                 0                   0             0   \n",
       "1               0                 1                   0             0   \n",
       "2               1                 0                   0             0   \n",
       "\n",
       "   purpose_Custom  purpose_Lifestyle  purpose_Running  purpose_Sandal  \\\n",
       "0               0                  1                0               0   \n",
       "1               0                  1                0               0   \n",
       "2               0                  1                0               0   \n",
       "\n",
       "   purpose_Soccer  purpose_Training  purpose_other  \n",
       "0               0                 0              0  \n",
       "1               0                 0              0  \n",
       "2               0                 0              0  "
      ]
     },
     "execution_count": 49,
     "metadata": {},
     "output_type": "execute_result"
    }
   ],
   "source": [
    "# dummy\n",
    "df_sub = pd.get_dummies(df_sub)\n",
    "df_sub.head(3)"
   ]
  },
  {
   "cell_type": "code",
   "execution_count": 50,
   "id": "32fc74d3-a2a0-4381-beff-d89eacafc6ab",
   "metadata": {},
   "outputs": [
    {
     "data": {
      "text/html": [
       "<div>\n",
       "<style scoped>\n",
       "    .dataframe tbody tr th:only-of-type {\n",
       "        vertical-align: middle;\n",
       "    }\n",
       "\n",
       "    .dataframe tbody tr th {\n",
       "        vertical-align: top;\n",
       "    }\n",
       "\n",
       "    .dataframe thead th {\n",
       "        text-align: right;\n",
       "    }\n",
       "</style>\n",
       "<table border=\"1\" class=\"dataframe\">\n",
       "  <thead>\n",
       "    <tr style=\"text-align: right;\">\n",
       "      <th></th>\n",
       "      <th>feature_num_colors</th>\n",
       "      <th>feature_n_reviews</th>\n",
       "      <th>feature_avg_stars</th>\n",
       "      <th>feature_category_Infant's</th>\n",
       "      <th>feature_category_Kids</th>\n",
       "      <th>feature_category_Men's</th>\n",
       "      <th>feature_category_Women's</th>\n",
       "      <th>feature_purpose_Basketball</th>\n",
       "      <th>feature_purpose_Boot</th>\n",
       "      <th>feature_purpose_Custom</th>\n",
       "      <th>feature_purpose_Lifestyle</th>\n",
       "      <th>feature_purpose_Running</th>\n",
       "      <th>feature_purpose_Sandal</th>\n",
       "      <th>feature_purpose_Soccer</th>\n",
       "      <th>feature_purpose_Training</th>\n",
       "      <th>feature_purpose_other</th>\n",
       "    </tr>\n",
       "  </thead>\n",
       "  <tbody>\n",
       "    <tr>\n",
       "      <th>0</th>\n",
       "      <td>2.0</td>\n",
       "      <td>2161.0</td>\n",
       "      <td>4.9</td>\n",
       "      <td>0</td>\n",
       "      <td>0</td>\n",
       "      <td>1</td>\n",
       "      <td>0</td>\n",
       "      <td>0</td>\n",
       "      <td>0</td>\n",
       "      <td>0</td>\n",
       "      <td>1</td>\n",
       "      <td>0</td>\n",
       "      <td>0</td>\n",
       "      <td>0</td>\n",
       "      <td>0</td>\n",
       "      <td>0</td>\n",
       "    </tr>\n",
       "    <tr>\n",
       "      <th>1</th>\n",
       "      <td>3.0</td>\n",
       "      <td>519.0</td>\n",
       "      <td>4.8</td>\n",
       "      <td>0</td>\n",
       "      <td>0</td>\n",
       "      <td>0</td>\n",
       "      <td>1</td>\n",
       "      <td>0</td>\n",
       "      <td>0</td>\n",
       "      <td>0</td>\n",
       "      <td>1</td>\n",
       "      <td>0</td>\n",
       "      <td>0</td>\n",
       "      <td>0</td>\n",
       "      <td>0</td>\n",
       "      <td>0</td>\n",
       "    </tr>\n",
       "    <tr>\n",
       "      <th>2</th>\n",
       "      <td>1.0</td>\n",
       "      <td>0.0</td>\n",
       "      <td>0.0</td>\n",
       "      <td>0</td>\n",
       "      <td>0</td>\n",
       "      <td>1</td>\n",
       "      <td>0</td>\n",
       "      <td>0</td>\n",
       "      <td>0</td>\n",
       "      <td>0</td>\n",
       "      <td>1</td>\n",
       "      <td>0</td>\n",
       "      <td>0</td>\n",
       "      <td>0</td>\n",
       "      <td>0</td>\n",
       "      <td>0</td>\n",
       "    </tr>\n",
       "  </tbody>\n",
       "</table>\n",
       "</div>"
      ],
      "text/plain": [
       "   feature_num_colors  feature_n_reviews  feature_avg_stars  \\\n",
       "0                 2.0             2161.0                4.9   \n",
       "1                 3.0              519.0                4.8   \n",
       "2                 1.0                0.0                0.0   \n",
       "\n",
       "   feature_category_Infant's  feature_category_Kids  feature_category_Men's  \\\n",
       "0                          0                      0                       1   \n",
       "1                          0                      0                       0   \n",
       "2                          0                      0                       1   \n",
       "\n",
       "   feature_category_Women's  feature_purpose_Basketball  feature_purpose_Boot  \\\n",
       "0                         0                           0                     0   \n",
       "1                         1                           0                     0   \n",
       "2                         0                           0                     0   \n",
       "\n",
       "   feature_purpose_Custom  feature_purpose_Lifestyle  feature_purpose_Running  \\\n",
       "0                       0                          1                        0   \n",
       "1                       0                          1                        0   \n",
       "2                       0                          1                        0   \n",
       "\n",
       "   feature_purpose_Sandal  feature_purpose_Soccer  feature_purpose_Training  \\\n",
       "0                       0                       0                         0   \n",
       "1                       0                       0                         0   \n",
       "2                       0                       0                         0   \n",
       "\n",
       "   feature_purpose_other  \n",
       "0                      0  \n",
       "1                      0  \n",
       "2                      0  "
      ]
     },
     "execution_count": 50,
     "metadata": {},
     "output_type": "execute_result"
    }
   ],
   "source": [
    "# prefix all non-text features - to distinguish from BOW words\n",
    "df_sub.columns = ['feature_' + col for col in df_sub.columns]\n",
    "df_sub.head(3)"
   ]
  },
  {
   "cell_type": "markdown",
   "id": "c10db4ae-1f3e-4677-ae38-982645f5b551",
   "metadata": {},
   "source": [
    "**Perform Dimensionality on TF-IDF matric** before concatenating it with the original features"
   ]
  },
  {
   "cell_type": "code",
   "execution_count": 51,
   "id": "f44d3a48-d744-4a9a-8583-30c606527f2c",
   "metadata": {},
   "outputs": [
    {
     "data": {
      "text/html": [
       "<div>\n",
       "<style scoped>\n",
       "    .dataframe tbody tr th:only-of-type {\n",
       "        vertical-align: middle;\n",
       "    }\n",
       "\n",
       "    .dataframe tbody tr th {\n",
       "        vertical-align: top;\n",
       "    }\n",
       "\n",
       "    .dataframe thead th {\n",
       "        text-align: right;\n",
       "    }\n",
       "</style>\n",
       "<table border=\"1\" class=\"dataframe\">\n",
       "  <thead>\n",
       "    <tr style=\"text-align: right;\">\n",
       "      <th></th>\n",
       "      <th>000</th>\n",
       "      <th>00s</th>\n",
       "      <th>01</th>\n",
       "      <th>04</th>\n",
       "      <th>05</th>\n",
       "      <th>06</th>\n",
       "      <th>07</th>\n",
       "      <th>10</th>\n",
       "      <th>100</th>\n",
       "      <th>10k</th>\n",
       "      <th>...</th>\n",
       "      <th>zigzag</th>\n",
       "      <th>zion</th>\n",
       "      <th>zip</th>\n",
       "      <th>zipper</th>\n",
       "      <th>zonal</th>\n",
       "      <th>zone</th>\n",
       "      <th>zoned</th>\n",
       "      <th>zones</th>\n",
       "      <th>zoom</th>\n",
       "      <th>zoomx</th>\n",
       "    </tr>\n",
       "  </thead>\n",
       "  <tbody>\n",
       "    <tr>\n",
       "      <th>0</th>\n",
       "      <td>0.0</td>\n",
       "      <td>0.0</td>\n",
       "      <td>0.0</td>\n",
       "      <td>0.0</td>\n",
       "      <td>0.0</td>\n",
       "      <td>0.0</td>\n",
       "      <td>0.0</td>\n",
       "      <td>0.0</td>\n",
       "      <td>0.0</td>\n",
       "      <td>0.0</td>\n",
       "      <td>...</td>\n",
       "      <td>0.0</td>\n",
       "      <td>0.0</td>\n",
       "      <td>0.0</td>\n",
       "      <td>0.0</td>\n",
       "      <td>0.0</td>\n",
       "      <td>0.0</td>\n",
       "      <td>0.0</td>\n",
       "      <td>0.0</td>\n",
       "      <td>0.0</td>\n",
       "      <td>0.0</td>\n",
       "    </tr>\n",
       "    <tr>\n",
       "      <th>1</th>\n",
       "      <td>0.0</td>\n",
       "      <td>0.0</td>\n",
       "      <td>0.0</td>\n",
       "      <td>0.0</td>\n",
       "      <td>0.0</td>\n",
       "      <td>0.0</td>\n",
       "      <td>0.0</td>\n",
       "      <td>0.0</td>\n",
       "      <td>0.0</td>\n",
       "      <td>0.0</td>\n",
       "      <td>...</td>\n",
       "      <td>0.0</td>\n",
       "      <td>0.0</td>\n",
       "      <td>0.0</td>\n",
       "      <td>0.0</td>\n",
       "      <td>0.0</td>\n",
       "      <td>0.0</td>\n",
       "      <td>0.0</td>\n",
       "      <td>0.0</td>\n",
       "      <td>0.0</td>\n",
       "      <td>0.0</td>\n",
       "    </tr>\n",
       "  </tbody>\n",
       "</table>\n",
       "<p>2 rows × 4416 columns</p>\n",
       "</div>"
      ],
      "text/plain": [
       "   000  00s   01   04   05   06   07   10  100  10k  ...  zigzag  zion  zip  \\\n",
       "0  0.0  0.0  0.0  0.0  0.0  0.0  0.0  0.0  0.0  0.0  ...     0.0   0.0  0.0   \n",
       "1  0.0  0.0  0.0  0.0  0.0  0.0  0.0  0.0  0.0  0.0  ...     0.0   0.0  0.0   \n",
       "\n",
       "   zipper  zonal  zone  zoned  zones  zoom  zoomx  \n",
       "0     0.0    0.0   0.0    0.0    0.0   0.0    0.0  \n",
       "1     0.0    0.0   0.0    0.0    0.0   0.0    0.0  \n",
       "\n",
       "[2 rows x 4416 columns]"
      ]
     },
     "execution_count": 51,
     "metadata": {},
     "output_type": "execute_result"
    }
   ],
   "source": [
    "df_tfidf = pd.read_csv(\"data/nike_tfidf_mat.csv\", index_col = 0)\n",
    "df_tfidf.head(2)"
   ]
  },
  {
   "cell_type": "code",
   "execution_count": 52,
   "id": "e488e4f4-9684-43f1-a301-1a175cb98430",
   "metadata": {},
   "outputs": [],
   "source": [
    "# This will lose interpretability\n",
    "# svd = TruncatedSVD(n_components = 100, n_iter = 10, random_state = 0)\n",
    "# reduced_tfidf = svd.fit_transform(df_tfidf)\n",
    "# reduced_tfidf"
   ]
  },
  {
   "cell_type": "markdown",
   "id": "e0c719e8-8640-45e5-b22c-72e484a676f5",
   "metadata": {},
   "source": [
    "### Concatenate original features with BOW"
   ]
  },
  {
   "cell_type": "code",
   "execution_count": 53,
   "id": "a0896258-21a4-46a4-aae8-1c07b51e6c51",
   "metadata": {},
   "outputs": [
    {
     "data": {
      "text/html": [
       "<div>\n",
       "<style scoped>\n",
       "    .dataframe tbody tr th:only-of-type {\n",
       "        vertical-align: middle;\n",
       "    }\n",
       "\n",
       "    .dataframe tbody tr th {\n",
       "        vertical-align: top;\n",
       "    }\n",
       "\n",
       "    .dataframe thead th {\n",
       "        text-align: right;\n",
       "    }\n",
       "</style>\n",
       "<table border=\"1\" class=\"dataframe\">\n",
       "  <thead>\n",
       "    <tr style=\"text-align: right;\">\n",
       "      <th></th>\n",
       "      <th>target_price</th>\n",
       "      <th>feature_num_colors</th>\n",
       "      <th>feature_n_reviews</th>\n",
       "      <th>feature_avg_stars</th>\n",
       "      <th>feature_category_Infant's</th>\n",
       "      <th>feature_category_Kids</th>\n",
       "      <th>feature_category_Men's</th>\n",
       "      <th>feature_category_Women's</th>\n",
       "      <th>feature_purpose_Basketball</th>\n",
       "      <th>feature_purpose_Boot</th>\n",
       "      <th>...</th>\n",
       "      <th>zigzag</th>\n",
       "      <th>zion</th>\n",
       "      <th>zip</th>\n",
       "      <th>zipper</th>\n",
       "      <th>zonal</th>\n",
       "      <th>zone</th>\n",
       "      <th>zoned</th>\n",
       "      <th>zones</th>\n",
       "      <th>zoom</th>\n",
       "      <th>zoomx</th>\n",
       "    </tr>\n",
       "  </thead>\n",
       "  <tbody>\n",
       "    <tr>\n",
       "      <th>0</th>\n",
       "      <td>(102.5, 141.25]</td>\n",
       "      <td>2.0</td>\n",
       "      <td>2161.0</td>\n",
       "      <td>4.9</td>\n",
       "      <td>0.0</td>\n",
       "      <td>0.0</td>\n",
       "      <td>1.0</td>\n",
       "      <td>0.0</td>\n",
       "      <td>0.0</td>\n",
       "      <td>0.0</td>\n",
       "      <td>...</td>\n",
       "      <td>0.0</td>\n",
       "      <td>0.0</td>\n",
       "      <td>0.0</td>\n",
       "      <td>0.0</td>\n",
       "      <td>0.0</td>\n",
       "      <td>0.0</td>\n",
       "      <td>0.0</td>\n",
       "      <td>0.0</td>\n",
       "      <td>0.000000</td>\n",
       "      <td>0.0</td>\n",
       "    </tr>\n",
       "    <tr>\n",
       "      <th>1</th>\n",
       "      <td>(102.5, 141.25]</td>\n",
       "      <td>3.0</td>\n",
       "      <td>519.0</td>\n",
       "      <td>4.8</td>\n",
       "      <td>0.0</td>\n",
       "      <td>0.0</td>\n",
       "      <td>0.0</td>\n",
       "      <td>1.0</td>\n",
       "      <td>0.0</td>\n",
       "      <td>0.0</td>\n",
       "      <td>...</td>\n",
       "      <td>0.0</td>\n",
       "      <td>0.0</td>\n",
       "      <td>0.0</td>\n",
       "      <td>0.0</td>\n",
       "      <td>0.0</td>\n",
       "      <td>0.0</td>\n",
       "      <td>0.0</td>\n",
       "      <td>0.0</td>\n",
       "      <td>0.000000</td>\n",
       "      <td>0.0</td>\n",
       "    </tr>\n",
       "    <tr>\n",
       "      <th>2</th>\n",
       "      <td>(102.5, 141.25]</td>\n",
       "      <td>1.0</td>\n",
       "      <td>0.0</td>\n",
       "      <td>0.0</td>\n",
       "      <td>0.0</td>\n",
       "      <td>0.0</td>\n",
       "      <td>1.0</td>\n",
       "      <td>0.0</td>\n",
       "      <td>0.0</td>\n",
       "      <td>0.0</td>\n",
       "      <td>...</td>\n",
       "      <td>0.0</td>\n",
       "      <td>0.0</td>\n",
       "      <td>0.0</td>\n",
       "      <td>0.0</td>\n",
       "      <td>0.0</td>\n",
       "      <td>0.0</td>\n",
       "      <td>0.0</td>\n",
       "      <td>0.0</td>\n",
       "      <td>0.000000</td>\n",
       "      <td>0.0</td>\n",
       "    </tr>\n",
       "    <tr>\n",
       "      <th>3</th>\n",
       "      <td>(102.5, 141.25]</td>\n",
       "      <td>2.0</td>\n",
       "      <td>128.0</td>\n",
       "      <td>4.9</td>\n",
       "      <td>0.0</td>\n",
       "      <td>0.0</td>\n",
       "      <td>1.0</td>\n",
       "      <td>0.0</td>\n",
       "      <td>0.0</td>\n",
       "      <td>0.0</td>\n",
       "      <td>...</td>\n",
       "      <td>0.0</td>\n",
       "      <td>0.0</td>\n",
       "      <td>0.0</td>\n",
       "      <td>0.0</td>\n",
       "      <td>0.0</td>\n",
       "      <td>0.0</td>\n",
       "      <td>0.0</td>\n",
       "      <td>0.0</td>\n",
       "      <td>0.000000</td>\n",
       "      <td>0.0</td>\n",
       "    </tr>\n",
       "    <tr>\n",
       "      <th>4</th>\n",
       "      <td>above_180</td>\n",
       "      <td>1.0</td>\n",
       "      <td>333.0</td>\n",
       "      <td>4.9</td>\n",
       "      <td>0.0</td>\n",
       "      <td>0.0</td>\n",
       "      <td>1.0</td>\n",
       "      <td>0.0</td>\n",
       "      <td>0.0</td>\n",
       "      <td>0.0</td>\n",
       "      <td>...</td>\n",
       "      <td>0.0</td>\n",
       "      <td>0.0</td>\n",
       "      <td>0.0</td>\n",
       "      <td>0.0</td>\n",
       "      <td>0.0</td>\n",
       "      <td>0.0</td>\n",
       "      <td>0.0</td>\n",
       "      <td>0.0</td>\n",
       "      <td>0.090476</td>\n",
       "      <td>0.0</td>\n",
       "    </tr>\n",
       "  </tbody>\n",
       "</table>\n",
       "<p>5 rows × 4433 columns</p>\n",
       "</div>"
      ],
      "text/plain": [
       "      target_price  feature_num_colors  feature_n_reviews  feature_avg_stars  \\\n",
       "0  (102.5, 141.25]                 2.0             2161.0                4.9   \n",
       "1  (102.5, 141.25]                 3.0              519.0                4.8   \n",
       "2  (102.5, 141.25]                 1.0                0.0                0.0   \n",
       "3  (102.5, 141.25]                 2.0              128.0                4.9   \n",
       "4        above_180                 1.0              333.0                4.9   \n",
       "\n",
       "   feature_category_Infant's  feature_category_Kids  feature_category_Men's  \\\n",
       "0                        0.0                    0.0                     1.0   \n",
       "1                        0.0                    0.0                     0.0   \n",
       "2                        0.0                    0.0                     1.0   \n",
       "3                        0.0                    0.0                     1.0   \n",
       "4                        0.0                    0.0                     1.0   \n",
       "\n",
       "   feature_category_Women's  feature_purpose_Basketball  feature_purpose_Boot  \\\n",
       "0                       0.0                         0.0                   0.0   \n",
       "1                       1.0                         0.0                   0.0   \n",
       "2                       0.0                         0.0                   0.0   \n",
       "3                       0.0                         0.0                   0.0   \n",
       "4                       0.0                         0.0                   0.0   \n",
       "\n",
       "   ...  zigzag  zion  zip  zipper  zonal  zone  zoned  zones      zoom  zoomx  \n",
       "0  ...     0.0   0.0  0.0     0.0    0.0   0.0    0.0    0.0  0.000000    0.0  \n",
       "1  ...     0.0   0.0  0.0     0.0    0.0   0.0    0.0    0.0  0.000000    0.0  \n",
       "2  ...     0.0   0.0  0.0     0.0    0.0   0.0    0.0    0.0  0.000000    0.0  \n",
       "3  ...     0.0   0.0  0.0     0.0    0.0   0.0    0.0    0.0  0.000000    0.0  \n",
       "4  ...     0.0   0.0  0.0     0.0    0.0   0.0    0.0    0.0  0.090476    0.0  \n",
       "\n",
       "[5 rows x 4433 columns]"
      ]
     },
     "metadata": {},
     "output_type": "display_data"
    },
    {
     "data": {
      "text/plain": [
       "target_price                  0\n",
       "feature_num_colors           28\n",
       "feature_n_reviews            28\n",
       "feature_avg_stars            28\n",
       "feature_category_Infant's    28\n",
       "                             ..\n",
       "zone                          0\n",
       "zoned                         0\n",
       "zones                         0\n",
       "zoom                          0\n",
       "zoomx                         0\n",
       "Length: 4433, dtype: int64"
      ]
     },
     "execution_count": 53,
     "metadata": {},
     "output_type": "execute_result"
    }
   ],
   "source": [
    "df_model = df_processed[['price']].join(df_sub).join(df_tfidf)\n",
    "# df_model = pd.concat([df_processed[['price']], df_sub, df_tfidf], axis = 1)\n",
    "df_model.rename({'price': 'target_price'}, axis = 1, inplace = True)\n",
    "display(df_model.head())\n",
    "df_model.isna().sum()"
   ]
  },
  {
   "cell_type": "markdown",
   "id": "806f7b9a-0827-4398-8bad-a6199289fa48",
   "metadata": {},
   "source": [
    "### convert `target_price` into integer"
   ]
  },
  {
   "cell_type": "code",
   "execution_count": 54,
   "id": "440be739-80a6-45d0-85f0-471dbb7e70dd",
   "metadata": {},
   "outputs": [
    {
     "data": {
      "text/plain": [
       "(63.75, 102.5]     447\n",
       "(102.5, 141.25]    401\n",
       "(24.845, 63.75]    245\n",
       "(141.25, 180.0]    166\n",
       "above_180          105\n",
       "Name: target_price, dtype: int64"
      ]
     },
     "execution_count": 54,
     "metadata": {},
     "output_type": "execute_result"
    }
   ],
   "source": [
    "# the original labels\n",
    "df_model['target_price'].value_counts()"
   ]
  },
  {
   "cell_type": "code",
   "execution_count": 55,
   "id": "44f1e12e-a1cc-4ded-9b56-fb352d1dc966",
   "metadata": {},
   "outputs": [
    {
     "data": {
      "text/plain": [
       "['(24.845, 63.75]',\n",
       " '(63.75, 102.5]',\n",
       " '(102.5, 141.25]',\n",
       " '(141.25, 180.0]',\n",
       " 'above_180']"
      ]
     },
     "execution_count": 55,
     "metadata": {},
     "output_type": "execute_result"
    }
   ],
   "source": [
    "df_model['target_price'] = df_model['target_price'].astype('category')\n",
    "labels = df_model['target_price'].cat.categories\n",
    "labels = [str(x) for x in list(labels)]\n",
    "labels"
   ]
  },
  {
   "cell_type": "code",
   "execution_count": 56,
   "id": "6f7a5c8b-ff41-417a-a5f7-662fd519cf94",
   "metadata": {},
   "outputs": [
    {
     "data": {
      "text/plain": [
       "1    447\n",
       "2    401\n",
       "0    245\n",
       "3    166\n",
       "4    105\n",
       "Name: target_price, dtype: int64"
      ]
     },
     "execution_count": 56,
     "metadata": {},
     "output_type": "execute_result"
    }
   ],
   "source": [
    "# label to int\n",
    "df_model['target_price'] = df_model['target_price'].cat.codes\n",
    "df_model['target_price'].value_counts()"
   ]
  },
  {
   "cell_type": "markdown",
   "id": "f9782bad-4f5e-435a-8bb2-26bff3f61f9c",
   "metadata": {},
   "source": [
    "Note the structure:\n",
    "\n",
    "- target: `target_price`\n",
    "- non-text features: `feature_xxx`\n",
    "- text features from description: put at the end of the df"
   ]
  },
  {
   "cell_type": "markdown",
   "id": "91c2f09b-4adb-4185-a50d-849ba962b082",
   "metadata": {},
   "source": [
    "# Classification Model"
   ]
  },
  {
   "cell_type": "markdown",
   "id": "8e5f2454-360e-4c1a-b4b2-ad3ad283b2ff",
   "metadata": {},
   "source": [
    "## XGBoost/LGBM Classification"
   ]
  },
  {
   "cell_type": "code",
   "execution_count": 57,
   "id": "7cb13955-56bb-458a-8ec2-23cd7d2b6a86",
   "metadata": {},
   "outputs": [
    {
     "name": "stdout",
     "output_type": "stream",
     "text": [
      "XGBClassifier(base_score=0.5, booster='gbtree', callbacks=None,\n",
      "              colsample_bylevel=1, colsample_bynode=1, colsample_bytree=1,\n",
      "              early_stopping_rounds=None, enable_categorical=False,\n",
      "              eval_metric=None, feature_types=None, gamma=0, gpu_id=-1,\n",
      "              grow_policy='depthwise', importance_type=None,\n",
      "              interaction_constraints='', learning_rate=0.300000012,\n",
      "              max_bin=256, max_cat_threshold=64, max_cat_to_onehot=4,\n",
      "              max_delta_step=0, max_depth=6, max_leaves=0, min_child_weight=1,\n",
      "              missing=nan, monotone_constraints='()', n_estimators=100,\n",
      "              n_jobs=0, num_parallel_tree=1, objective='multi:softprob',\n",
      "              predictor='auto', ...)\n",
      "Accuracy: 44.35%\n"
     ]
    }
   ],
   "source": [
    "est_df = df_model.loc[:,~df_model.columns.duplicated()]\n",
    "X = est_df.drop('target_price', axis=1)\n",
    "Y = est_df.iloc[:, 0].values\n",
    "\n",
    "seed = 7\n",
    "test_size = 0.33\n",
    "X_train, X_test, y_train, y_test = train_test_split(X, Y, \n",
    "                                                    test_size = test_size, random_state = seed)\n",
    "\n",
    "# fit model no training data\n",
    "model = XGBClassifier()\n",
    "model.fit(X_train, y_train)\n",
    "print(model)\n",
    "\n",
    "# make predictions for test data\n",
    "y_pred = model.predict(X_test)\n",
    "predictions = [round(value) for value in y_pred]\n",
    "# evaluate predictions\n",
    "accuracy = accuracy_score(y_test, predictions)\n",
    "print(\"Accuracy: %.2f%%\" % (accuracy * 100.0))"
   ]
  },
  {
   "cell_type": "code",
   "execution_count": 58,
   "id": "1c56e94a-5eef-48ad-9763-26eeb8367505",
   "metadata": {},
   "outputs": [
    {
     "name": "stdout",
     "output_type": "stream",
     "text": [
      "                 precision    recall  f1-score   support\n",
      "\n",
      "(24.845, 63.75]       0.68      0.52      0.59        85\n",
      " (63.75, 102.5]       0.43      0.57      0.49       144\n",
      "(102.5, 141.25]       0.43      0.53      0.47       129\n",
      "(141.25, 180.0]       0.12      0.05      0.07        56\n",
      "      above_180       0.25      0.08      0.12        37\n",
      "\n",
      "       accuracy                           0.44       451\n",
      "      macro avg       0.38      0.35      0.35       451\n",
      "   weighted avg       0.42      0.44      0.42       451\n",
      "\n"
     ]
    }
   ],
   "source": [
    "print(classification_report(y_test, y_pred, target_names = labels))"
   ]
  },
  {
   "cell_type": "code",
   "execution_count": 59,
   "id": "c31888a8-6530-4567-a363-7156c9ef1ed8",
   "metadata": {},
   "outputs": [
    {
     "data": {
      "image/png": "[encoded data removed]",
      "text/plain": [
       "<Figure size 600x400 with 1 Axes>"
      ]
     },
     "metadata": {},
     "output_type": "display_data"
    }
   ],
   "source": [
    "importances = model.feature_importances_\n",
    "plot_feature_importance(importances, list(est_df.drop('target_price', axis = 1).columns), \"Nike MDI-Based \")"
   ]
  },
  {
   "cell_type": "code",
   "execution_count": 60,
   "id": "72ee4787-22d9-4ac0-bba4-9fbec166f9e0",
   "metadata": {},
   "outputs": [
    {
     "data": {
      "text/plain": [
       "4432"
      ]
     },
     "execution_count": 60,
     "metadata": {},
     "output_type": "execute_result"
    }
   ],
   "source": [
    "features = list(X_train.columns)\n",
    "importance = model.feature_importances_\n",
    "len(importance)"
   ]
  },
  {
   "cell_type": "code",
   "execution_count": 61,
   "id": "e2663113-3a4f-4ad4-af5e-d3005ac20db9",
   "metadata": {},
   "outputs": [],
   "source": [
    "# sorted_idx = model.feature_importances_.argsort()\n",
    "# plt.barh(features[sorted_idx][-20:], importance[sorted_idx][-20:])\n",
    "# plt.xlabel(\"MDI-Based Feature Importance\")\n",
    "# plt.ylabel(\"Feature Names\")\n",
    "# plt.title(\"Xgboost Feature Importance: Top 20 Features\")"
   ]
  },
  {
   "cell_type": "code",
   "execution_count": 62,
   "id": "88c038b7-758b-4b7e-acb2-ea9451dcc7d2",
   "metadata": {},
   "outputs": [],
   "source": [
    "# TAKES VERY LONG\n",
    "\n",
    "# perm_importance = permutation_importance(model,X_test,y_test)\n",
    "# sorted_idx_perm = perm_importance.importances_mean.argsort()\n",
    "# plt.barh(features[sorted_idx_perm][-20:],perm_importance[sorted_idx_perm][-20:])\n",
    "# plt.xlabel(\"Xgboost Permutation Feature Importance: Top 20 Most Important Features\")"
   ]
  },
  {
   "cell_type": "markdown",
   "id": "cc0ba02e-ce23-442f-89b9-0a12887df7e4",
   "metadata": {},
   "source": [
    "## LGBM Classification"
   ]
  },
  {
   "cell_type": "code",
   "execution_count": null,
   "id": "2436c9fe-ec7d-4098-978f-bd05d8ac5c1d",
   "metadata": {},
   "outputs": [
    {
     "name": "stderr",
     "output_type": "stream",
     "text": [
      "/Users/runlanlana/micromamba/envs/cs109a/lib/python3.10/site-packages/lightgbm/engine.py:181: UserWarning: 'early_stopping_rounds' argument is deprecated and will be removed in a future release of LightGBM. Pass 'early_stopping()' callback via 'callbacks' argument instead.\n",
      "  _log_warning(\"'early_stopping_rounds' argument is deprecated and will be removed in a future release of LightGBM. \"\n"
     ]
    }
   ],
   "source": [
    "params = {'boosting': 'gbdt', 'objective': 'multiclass', 'num_leaves': 10, 'num_class': 5}\n",
    "lgb_train = lgb.Dataset(X_train, y_train)\n",
    "lgb_eval = lgb.Dataset(X_test, y_test, reference = lgb_train)\n",
    "\n",
    "model = lgb.train(params, train_set = lgb_train, \n",
    "                  valid_sets = lgb_eval, early_stopping_rounds = 30)"
   ]
  },
  {
   "cell_type": "code",
   "execution_count": null,
   "id": "f1eee1c0-0f2f-46fe-951b-faf63db04e46",
   "metadata": {},
   "outputs": [],
   "source": [
    "y_pred = model.predict(X_test)\n",
    "\n",
    "y_pred = np.argmax(y_pred,axis=1)\n",
    "\n",
    "cr = classification_report(y_test,y_pred)\n",
    "cm = confusion_matrix(y_test,y_pred)\n",
    "\n",
    "print(cr)\n",
    "pd.crosstab(y_test,y_pred)"
   ]
  },
  {
   "cell_type": "code",
   "execution_count": null,
   "id": "09804bb5-567e-4348-b4b6-9e43d9318904",
   "metadata": {},
   "outputs": [],
   "source": [
    "lgb.plot_importance(model, height=.5, max_num_features = 20,\n",
    "                   title = \"LBGM Classifier's Top 20 Features\")"
   ]
  },
  {
   "cell_type": "markdown",
   "id": "a8bfbd49-4d21-4a93-8ae3-908190dd5eac",
   "metadata": {},
   "source": [
    "## XGBoost Regression Trees"
   ]
  },
  {
   "cell_type": "code",
   "execution_count": null,
   "id": "d35cd0b4-3df4-46ce-8ad7-b32ea227a165",
   "metadata": {},
   "outputs": [],
   "source": [
    "df_model_reg = df_model.copy()\n",
    "df_model_reg['target_price'] = nike['price']\n",
    "df_model_reg = df_model_reg.rename(columns = {'target_price': 'price'})\n",
    "df_model_reg.isna().sum()"
   ]
  },
  {
   "cell_type": "code",
   "execution_count": null,
   "id": "a99536a4-aaec-4c78-a509-abb0e076e06d",
   "metadata": {},
   "outputs": [],
   "source": [
    "df_model_reg.head()"
   ]
  },
  {
   "cell_type": "code",
   "execution_count": null,
   "id": "55aeb2e1-c64e-414e-b5ef-f0b8ed1bc699",
   "metadata": {},
   "outputs": [],
   "source": [
    "X = df_model_reg.drop('price', axis=1)\n",
    "Y = df_model_reg['price'].values\n",
    "\n",
    "X_train, X_test, y_train, y_test=train_test_split(X, Y, test_size=0.15)"
   ]
  },
  {
   "cell_type": "code",
   "execution_count": null,
   "id": "cfe83a1a-3816-416a-90b9-b80ec728bde4",
   "metadata": {},
   "outputs": [],
   "source": [
    "model.fit(X_train,y_train)"
   ]
  },
  {
   "cell_type": "code",
   "execution_count": null,
   "id": "2152d0de-4990-45a2-99b9-89026c8e527e",
   "metadata": {},
   "outputs": [],
   "source": [
    "score = model.score(X_train, y_train)  \n",
    "print(\"Training score: \", score)\n",
    "\n",
    "scores = cross_val_score(model, X_train, y_train,cv=10)\n",
    "print(\"Mean cross-validation score: %.2f\" % scores.mean())"
   ]
  },
  {
   "cell_type": "code",
   "execution_count": null,
   "id": "f7d5c4d8-738c-43ba-b562-c532dbd19284",
   "metadata": {},
   "outputs": [],
   "source": [
    "y_pred = model.predict(X_test)\n",
    "mse = mean_squared_error(y_test, y_pred)\n",
    "print(\"MSE: %.2f\" % mse)\n",
    "print(\"RMSE: %.2f\" % (mse**(1/2.0)))"
   ]
  },
  {
   "cell_type": "code",
   "execution_count": null,
   "id": "7a04211b-75f6-4973-993c-777644c8b788",
   "metadata": {},
   "outputs": [],
   "source": [
    "x_ax = range(len(y_test))\n",
    "plt.plot(x_ax, y_test, label=\"original\")\n",
    "plt.plot(x_ax, y_pred, label=\"predicted\")\n",
    "plt.title(\"Nike Shoe Prices and predicted data (XGB Model)\")\n",
    "plt.xlabel(\"Individual Sample\")\n",
    "plt.ylabel(\"Price\")\n",
    "plt.legend()\n",
    "plt.show()"
   ]
  },
  {
   "cell_type": "code",
   "execution_count": null,
   "id": "4aa2e015-3621-4555-810b-7b8a7f5f29b1",
   "metadata": {},
   "outputs": [],
   "source": [
    "# f_importance = model.get_booster().get_score(importance_type='gain')\n",
    "\n",
    "# sorted_f={k: v for k, v in sorted(f_importance.items(), key=lambda item: item[1],reverse=True)}\n",
    "\n",
    "# importance_df_sort = pd.DataFrame.from_dict(data=sorted_f, orient='index')\n",
    "\n",
    "# ax = importance_df_sort[0:20].plot.barh()\n",
    "# ax.invert_yaxis()"
   ]
  },
  {
   "cell_type": "code",
   "execution_count": null,
   "id": "a5961b42-be25-4355-b9f7-221c5beaf691",
   "metadata": {},
   "outputs": [],
   "source": [
    "# X_train.columns\n",
    "\n",
    "# len(model.feature_importances_)\n",
    "\n",
    "#  model.feature_importances_[sorted_idx][-20:]"
   ]
  },
  {
   "cell_type": "code",
   "execution_count": null,
   "id": "ea362b56-bf66-41bf-84e7-5b6e81256756",
   "metadata": {},
   "outputs": [],
   "source": [
    "importances = model.feature_importances_\n",
    "plot_feature_importance(importances, list(X_train.columns), \n",
    "                        \"Nike XGB Regressor's MDI-Based \", \n",
    "                        selected_top = 20)"
   ]
  },
  {
   "cell_type": "code",
   "execution_count": null,
   "id": "529258ba-6cb9-4066-bc50-cca043dc41f3",
   "metadata": {},
   "outputs": [],
   "source": [
    "sorted_idx = model.feature_importances_.argsort()\n",
    "\n",
    "plt.barh(X_train.columns[sorted_idx][-20:], model.feature_importances_[sorted_idx][-20:])\n",
    "plt.title(\"XGBoost Regressor Feature Importance\")\n",
    "plt.xlabel(\"Feature Importance\")\n",
    "plt.ylabel(\"Feature Names\")"
   ]
  },
  {
   "cell_type": "code",
   "execution_count": null,
   "id": "cff247e2-732d-479b-b251-fc439e4158f8",
   "metadata": {},
   "outputs": [],
   "source": [
    "# Takes Very long\n",
    "\n",
    "# perm_importance = permutation_importance(model, X_test, y_test)\n",
    "# sorted_idx = perm_importance.importances_mean.argsort()\n",
    "# plt.barh(X_train.columns[sorted_idx], perm_importance.importances_mean[sorted_idx])\n",
    "# plt.xlabel(\"Permutation Importance\")"
   ]
  },
  {
   "cell_type": "code",
   "execution_count": null,
   "id": "2bc4215f-ca64-4277-85f4-0e2b2bc731df",
   "metadata": {},
   "outputs": [],
   "source": [
    "explainer = shap.TreeExplainer(model)\n",
    "shap_values = explainer.shap_values(X_test)\n",
    "\n",
    "shap.summary_plot(shap_values, X_test, plot_type = \"bar\")"
   ]
  },
  {
   "cell_type": "code",
   "execution_count": null,
   "id": "caa4832c-d745-4767-816b-b126dba22cc3",
   "metadata": {},
   "outputs": [],
   "source": [
    "shap.summary_plot(shap_values, X_test)"
   ]
  },
  {
   "cell_type": "markdown",
   "id": "1dd1a21f-67ce-4b94-b71c-02d799343931",
   "metadata": {},
   "source": [
    "## LGBM Regression"
   ]
  },
  {
   "cell_type": "code",
   "execution_count": null,
   "id": "5e46b97c-838a-47f9-9203-b86d1330776d",
   "metadata": {},
   "outputs": [],
   "source": [
    "# defining parameters \n",
    "params = {\n",
    "    'task': 'train', \n",
    "    'boosting': 'gbdt',\n",
    "    'objective': 'regression',\n",
    "    'num_leaves': 10,\n",
    "    'learnnig_rage': 0.05,\n",
    "    'metric': {'l2','l1'},\n",
    "    'verbose': -1\n",
    "}\n",
    "\n",
    "lgb_train = lgb.Dataset(X_train, y_train)\n",
    "lgb_eval = lgb.Dataset(X_test, y_test, reference = lgb_train)\n",
    "model = lgb.train(params,\n",
    "                 train_set = lgb_train,\n",
    "                 valid_sets = lgb_eval,\n",
    "                 early_stopping_rounds = 30)"
   ]
  },
  {
   "cell_type": "code",
   "execution_count": null,
   "id": "c57d1e70-fb59-4d96-87e7-c239be43618e",
   "metadata": {},
   "outputs": [],
   "source": [
    "# prediction\n",
    "y_pred = model.predict(X_test)\n",
    "\n",
    "# accuracy check\n",
    "mse = mean_squared_error(y_test, y_pred)\n",
    "rmse = mse**(0.5)\n",
    "print(\"MSE: %.2f\" % mse)\n",
    "print(\"RMSE: %.2f\" % rmse)"
   ]
  },
  {
   "cell_type": "code",
   "execution_count": null,
   "id": "419d1e07-1e9e-4272-bfb2-53df4f0b522c",
   "metadata": {},
   "outputs": [],
   "source": [
    "x_ax = range(len(y_test))\n",
    "plt.figure(figsize=(12, 6))\n",
    "plt.plot(x_ax, y_test, label = \"original\")\n",
    "plt.plot(x_ax, y_pred, label = \"predicted\")\n",
    "plt.title(\"Nike Shoe Prices and predicted data (LGB Model)\")\n",
    "plt.xlabel('Individual Sample')\n",
    "plt.ylabel('Price')\n",
    "plt.legend(loc='best',fancybox=True, shadow=True)\n",
    "plt.grid(True)\n",
    "plt.show()  "
   ]
  },
  {
   "cell_type": "code",
   "execution_count": null,
   "id": "a88b6630-ed20-4f97-bee3-ff361c0ba11d",
   "metadata": {},
   "outputs": [],
   "source": [
    "lgb.plot_importance(model, height = .5,\n",
    "                    max_num_features = 20, \n",
    "                    title = \"Nike LBGM Regressor's Top 20 Features\")"
   ]
  }
 ],
 "metadata": {
  "kernelspec": {
   "display_name": "Python 3 (ipykernel)",
   "language": "python",
   "name": "python3"
  },
  "language_info": {
   "codemirror_mode": {
    "name": "ipython",
    "version": 3
   },
   "file_extension": ".py",
   "mimetype": "text/x-python",
   "name": "python",
   "nbconvert_exporter": "python",
   "pygments_lexer": "ipython3",
   "version": "3.10.6"
  },
  "vscode": {
   "interpreter": {
    "hash": "40d3a090f54c6569ab1632332b64b2c03c39dcf918b08424e98f38b5ae0af88f"
   }
  }
 },
 "nbformat": 4,
 "nbformat_minor": 5
}
